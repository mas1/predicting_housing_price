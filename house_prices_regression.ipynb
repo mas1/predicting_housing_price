{
  "nbformat": 4,
  "nbformat_minor": 0,
  "metadata": {
    "colab": {
      "name": "house_prices_regression.ipynb",
      "provenance": []
    },
    "kernelspec": {
      "name": "python3",
      "display_name": "Python 3"
    }
  },
  "cells": [
    {
      "cell_type": "markdown",
      "metadata": {
        "id": "k_mOS_4K5mVq"
      },
      "source": [
        "# Predicting housing prices using linear regression"
      ]
    },
    {
      "cell_type": "markdown",
      "metadata": {
        "id": "nGnLCrm7rveM"
      },
      "source": [
        "The housing market is one of the most crucial parts of the economy for every country. Purchasing a home is one of the primary ways to build wealth and savings for people. In this respect, predicting prices in the housing market is a very central topic in economic and financial circles."
      ]
    },
    {
      "cell_type": "markdown",
      "metadata": {
        "id": "PxnPG1KQD5fd"
      },
      "source": [
        "In this project we seek to predict housing prices given data of residential homes in Ames, Iowa. We will first build a simple linear regression model using OLS, then we will iterate on that model until we get a satisfactory result. Although it is not the only approach, OLS is by far the most common method of estimating linear regression models. "
      ]
    },
    {
      "cell_type": "markdown",
      "metadata": {
        "id": "H3LOeVkr5bFu"
      },
      "source": [
        "### Setup and data clean"
      ]
    },
    {
      "cell_type": "code",
      "metadata": {
        "id": "bjiPghpkEel9",
        "outputId": "e08e00b1-4124-4815-e766-9a9b0e6f5265",
        "colab": {
          "base_uri": "https://localhost:8080/",
          "height": 51
        }
      },
      "source": [
        "import numpy as np\n",
        "import pandas as pd\n",
        "import seaborn as sns\n",
        "from sklearn import linear_model\n",
        "from sklearn import metrics\n",
        "import statsmodels.api as sm\n",
        "import matplotlib.pyplot as plt\n",
        "from sklearn.linear_model import LinearRegression, LassoCV, RidgeCV, ElasticNetCV\n",
        "from sklearn.pipeline import Pipeline\n",
        "from sklearn.preprocessing import PolynomialFeatures\n",
        "from sklearn.model_selection import train_test_split, GridSearchCV\n",
        "from sklearn.metrics import mean_absolute_error\n",
        "from statsmodels.tools.eval_measures import mse, rmse\n",
        "from sqlalchemy import create_engine\n",
        "\n",
        "import warnings\n",
        "warnings.filterwarnings('ignore')\n",
        "\n",
        "postgres_user = 'dsbc_student'\n",
        "postgres_pw = '7*.8G9QH21'\n",
        "postgres_host = '142.93.121.174'\n",
        "postgres_port = '5432'\n",
        "postgres_db = 'houseprices'"
      ],
      "execution_count": null,
      "outputs": [
        {
          "output_type": "stream",
          "text": [
            "/usr/local/lib/python3.6/dist-packages/statsmodels/tools/_testing.py:19: FutureWarning: pandas.util.testing is deprecated. Use the functions in the public API at pandas.testing instead.\n",
            "  import pandas.util.testing as tm\n"
          ],
          "name": "stderr"
        }
      ]
    },
    {
      "cell_type": "code",
      "metadata": {
        "id": "VqHOFOZWrS2e",
        "outputId": "859aaade-e46e-4575-a198-d430652549d8",
        "colab": {
          "base_uri": "https://localhost:8080/",
          "height": 408
        }
      },
      "source": [
        "engine = create_engine('postgresql://{}:{}@{}:{}/{}'.format(\n",
        "    postgres_user, postgres_pw, postgres_host, postgres_port, postgres_db))\n",
        "house_df = pd.read_sql_query('select * from houseprices',con=engine)\n",
        "\n",
        "# no need for an open connection, as we're only doing a single query\n",
        "engine.dispose()\n",
        "\n",
        "house_df.head(10)"
      ],
      "execution_count": null,
      "outputs": [
        {
          "output_type": "execute_result",
          "data": {
            "text/html": [
              "<div>\n",
              "<style scoped>\n",
              "    .dataframe tbody tr th:only-of-type {\n",
              "        vertical-align: middle;\n",
              "    }\n",
              "\n",
              "    .dataframe tbody tr th {\n",
              "        vertical-align: top;\n",
              "    }\n",
              "\n",
              "    .dataframe thead th {\n",
              "        text-align: right;\n",
              "    }\n",
              "</style>\n",
              "<table border=\"1\" class=\"dataframe\">\n",
              "  <thead>\n",
              "    <tr style=\"text-align: right;\">\n",
              "      <th></th>\n",
              "      <th>id</th>\n",
              "      <th>mssubclass</th>\n",
              "      <th>mszoning</th>\n",
              "      <th>lotfrontage</th>\n",
              "      <th>lotarea</th>\n",
              "      <th>street</th>\n",
              "      <th>alley</th>\n",
              "      <th>lotshape</th>\n",
              "      <th>landcontour</th>\n",
              "      <th>utilities</th>\n",
              "      <th>lotconfig</th>\n",
              "      <th>landslope</th>\n",
              "      <th>neighborhood</th>\n",
              "      <th>condition1</th>\n",
              "      <th>condition2</th>\n",
              "      <th>bldgtype</th>\n",
              "      <th>housestyle</th>\n",
              "      <th>overallqual</th>\n",
              "      <th>overallcond</th>\n",
              "      <th>yearbuilt</th>\n",
              "      <th>yearremodadd</th>\n",
              "      <th>roofstyle</th>\n",
              "      <th>roofmatl</th>\n",
              "      <th>exterior1st</th>\n",
              "      <th>exterior2nd</th>\n",
              "      <th>masvnrtype</th>\n",
              "      <th>masvnrarea</th>\n",
              "      <th>exterqual</th>\n",
              "      <th>extercond</th>\n",
              "      <th>foundation</th>\n",
              "      <th>bsmtqual</th>\n",
              "      <th>bsmtcond</th>\n",
              "      <th>bsmtexposure</th>\n",
              "      <th>bsmtfintype1</th>\n",
              "      <th>bsmtfinsf1</th>\n",
              "      <th>bsmtfintype2</th>\n",
              "      <th>bsmtfinsf2</th>\n",
              "      <th>bsmtunfsf</th>\n",
              "      <th>totalbsmtsf</th>\n",
              "      <th>heating</th>\n",
              "      <th>...</th>\n",
              "      <th>centralair</th>\n",
              "      <th>electrical</th>\n",
              "      <th>firstflrsf</th>\n",
              "      <th>secondflrsf</th>\n",
              "      <th>lowqualfinsf</th>\n",
              "      <th>grlivarea</th>\n",
              "      <th>bsmtfullbath</th>\n",
              "      <th>bsmthalfbath</th>\n",
              "      <th>fullbath</th>\n",
              "      <th>halfbath</th>\n",
              "      <th>bedroomabvgr</th>\n",
              "      <th>kitchenabvgr</th>\n",
              "      <th>kitchenqual</th>\n",
              "      <th>totrmsabvgrd</th>\n",
              "      <th>functional</th>\n",
              "      <th>fireplaces</th>\n",
              "      <th>fireplacequ</th>\n",
              "      <th>garagetype</th>\n",
              "      <th>garageyrblt</th>\n",
              "      <th>garagefinish</th>\n",
              "      <th>garagecars</th>\n",
              "      <th>garagearea</th>\n",
              "      <th>garagequal</th>\n",
              "      <th>garagecond</th>\n",
              "      <th>paveddrive</th>\n",
              "      <th>wooddecksf</th>\n",
              "      <th>openporchsf</th>\n",
              "      <th>enclosedporch</th>\n",
              "      <th>threessnporch</th>\n",
              "      <th>screenporch</th>\n",
              "      <th>poolarea</th>\n",
              "      <th>poolqc</th>\n",
              "      <th>fence</th>\n",
              "      <th>miscfeature</th>\n",
              "      <th>miscval</th>\n",
              "      <th>mosold</th>\n",
              "      <th>yrsold</th>\n",
              "      <th>saletype</th>\n",
              "      <th>salecondition</th>\n",
              "      <th>saleprice</th>\n",
              "    </tr>\n",
              "  </thead>\n",
              "  <tbody>\n",
              "    <tr>\n",
              "      <th>0</th>\n",
              "      <td>1</td>\n",
              "      <td>60</td>\n",
              "      <td>RL</td>\n",
              "      <td>65.0</td>\n",
              "      <td>8450</td>\n",
              "      <td>Pave</td>\n",
              "      <td>None</td>\n",
              "      <td>Reg</td>\n",
              "      <td>Lvl</td>\n",
              "      <td>AllPub</td>\n",
              "      <td>Inside</td>\n",
              "      <td>Gtl</td>\n",
              "      <td>CollgCr</td>\n",
              "      <td>Norm</td>\n",
              "      <td>Norm</td>\n",
              "      <td>1Fam</td>\n",
              "      <td>2Story</td>\n",
              "      <td>7</td>\n",
              "      <td>5</td>\n",
              "      <td>2003</td>\n",
              "      <td>2003</td>\n",
              "      <td>Gable</td>\n",
              "      <td>CompShg</td>\n",
              "      <td>VinylSd</td>\n",
              "      <td>VinylSd</td>\n",
              "      <td>BrkFace</td>\n",
              "      <td>196.0</td>\n",
              "      <td>Gd</td>\n",
              "      <td>TA</td>\n",
              "      <td>PConc</td>\n",
              "      <td>Gd</td>\n",
              "      <td>TA</td>\n",
              "      <td>No</td>\n",
              "      <td>GLQ</td>\n",
              "      <td>706</td>\n",
              "      <td>Unf</td>\n",
              "      <td>0</td>\n",
              "      <td>150</td>\n",
              "      <td>856</td>\n",
              "      <td>GasA</td>\n",
              "      <td>...</td>\n",
              "      <td>Y</td>\n",
              "      <td>SBrkr</td>\n",
              "      <td>856</td>\n",
              "      <td>854</td>\n",
              "      <td>0</td>\n",
              "      <td>1710</td>\n",
              "      <td>1</td>\n",
              "      <td>0</td>\n",
              "      <td>2</td>\n",
              "      <td>1</td>\n",
              "      <td>3</td>\n",
              "      <td>1</td>\n",
              "      <td>Gd</td>\n",
              "      <td>8</td>\n",
              "      <td>Typ</td>\n",
              "      <td>0</td>\n",
              "      <td>None</td>\n",
              "      <td>Attchd</td>\n",
              "      <td>2003.0</td>\n",
              "      <td>RFn</td>\n",
              "      <td>2</td>\n",
              "      <td>548</td>\n",
              "      <td>TA</td>\n",
              "      <td>TA</td>\n",
              "      <td>Y</td>\n",
              "      <td>0</td>\n",
              "      <td>61</td>\n",
              "      <td>0</td>\n",
              "      <td>0</td>\n",
              "      <td>0</td>\n",
              "      <td>0</td>\n",
              "      <td>None</td>\n",
              "      <td>None</td>\n",
              "      <td>None</td>\n",
              "      <td>0</td>\n",
              "      <td>2</td>\n",
              "      <td>2008</td>\n",
              "      <td>WD</td>\n",
              "      <td>Normal</td>\n",
              "      <td>208500</td>\n",
              "    </tr>\n",
              "    <tr>\n",
              "      <th>1</th>\n",
              "      <td>2</td>\n",
              "      <td>20</td>\n",
              "      <td>RL</td>\n",
              "      <td>80.0</td>\n",
              "      <td>9600</td>\n",
              "      <td>Pave</td>\n",
              "      <td>None</td>\n",
              "      <td>Reg</td>\n",
              "      <td>Lvl</td>\n",
              "      <td>AllPub</td>\n",
              "      <td>FR2</td>\n",
              "      <td>Gtl</td>\n",
              "      <td>Veenker</td>\n",
              "      <td>Feedr</td>\n",
              "      <td>Norm</td>\n",
              "      <td>1Fam</td>\n",
              "      <td>1Story</td>\n",
              "      <td>6</td>\n",
              "      <td>8</td>\n",
              "      <td>1976</td>\n",
              "      <td>1976</td>\n",
              "      <td>Gable</td>\n",
              "      <td>CompShg</td>\n",
              "      <td>MetalSd</td>\n",
              "      <td>MetalSd</td>\n",
              "      <td>None</td>\n",
              "      <td>0.0</td>\n",
              "      <td>TA</td>\n",
              "      <td>TA</td>\n",
              "      <td>CBlock</td>\n",
              "      <td>Gd</td>\n",
              "      <td>TA</td>\n",
              "      <td>Gd</td>\n",
              "      <td>ALQ</td>\n",
              "      <td>978</td>\n",
              "      <td>Unf</td>\n",
              "      <td>0</td>\n",
              "      <td>284</td>\n",
              "      <td>1262</td>\n",
              "      <td>GasA</td>\n",
              "      <td>...</td>\n",
              "      <td>Y</td>\n",
              "      <td>SBrkr</td>\n",
              "      <td>1262</td>\n",
              "      <td>0</td>\n",
              "      <td>0</td>\n",
              "      <td>1262</td>\n",
              "      <td>0</td>\n",
              "      <td>1</td>\n",
              "      <td>2</td>\n",
              "      <td>0</td>\n",
              "      <td>3</td>\n",
              "      <td>1</td>\n",
              "      <td>TA</td>\n",
              "      <td>6</td>\n",
              "      <td>Typ</td>\n",
              "      <td>1</td>\n",
              "      <td>TA</td>\n",
              "      <td>Attchd</td>\n",
              "      <td>1976.0</td>\n",
              "      <td>RFn</td>\n",
              "      <td>2</td>\n",
              "      <td>460</td>\n",
              "      <td>TA</td>\n",
              "      <td>TA</td>\n",
              "      <td>Y</td>\n",
              "      <td>298</td>\n",
              "      <td>0</td>\n",
              "      <td>0</td>\n",
              "      <td>0</td>\n",
              "      <td>0</td>\n",
              "      <td>0</td>\n",
              "      <td>None</td>\n",
              "      <td>None</td>\n",
              "      <td>None</td>\n",
              "      <td>0</td>\n",
              "      <td>5</td>\n",
              "      <td>2007</td>\n",
              "      <td>WD</td>\n",
              "      <td>Normal</td>\n",
              "      <td>181500</td>\n",
              "    </tr>\n",
              "    <tr>\n",
              "      <th>2</th>\n",
              "      <td>3</td>\n",
              "      <td>60</td>\n",
              "      <td>RL</td>\n",
              "      <td>68.0</td>\n",
              "      <td>11250</td>\n",
              "      <td>Pave</td>\n",
              "      <td>None</td>\n",
              "      <td>IR1</td>\n",
              "      <td>Lvl</td>\n",
              "      <td>AllPub</td>\n",
              "      <td>Inside</td>\n",
              "      <td>Gtl</td>\n",
              "      <td>CollgCr</td>\n",
              "      <td>Norm</td>\n",
              "      <td>Norm</td>\n",
              "      <td>1Fam</td>\n",
              "      <td>2Story</td>\n",
              "      <td>7</td>\n",
              "      <td>5</td>\n",
              "      <td>2001</td>\n",
              "      <td>2002</td>\n",
              "      <td>Gable</td>\n",
              "      <td>CompShg</td>\n",
              "      <td>VinylSd</td>\n",
              "      <td>VinylSd</td>\n",
              "      <td>BrkFace</td>\n",
              "      <td>162.0</td>\n",
              "      <td>Gd</td>\n",
              "      <td>TA</td>\n",
              "      <td>PConc</td>\n",
              "      <td>Gd</td>\n",
              "      <td>TA</td>\n",
              "      <td>Mn</td>\n",
              "      <td>GLQ</td>\n",
              "      <td>486</td>\n",
              "      <td>Unf</td>\n",
              "      <td>0</td>\n",
              "      <td>434</td>\n",
              "      <td>920</td>\n",
              "      <td>GasA</td>\n",
              "      <td>...</td>\n",
              "      <td>Y</td>\n",
              "      <td>SBrkr</td>\n",
              "      <td>920</td>\n",
              "      <td>866</td>\n",
              "      <td>0</td>\n",
              "      <td>1786</td>\n",
              "      <td>1</td>\n",
              "      <td>0</td>\n",
              "      <td>2</td>\n",
              "      <td>1</td>\n",
              "      <td>3</td>\n",
              "      <td>1</td>\n",
              "      <td>Gd</td>\n",
              "      <td>6</td>\n",
              "      <td>Typ</td>\n",
              "      <td>1</td>\n",
              "      <td>TA</td>\n",
              "      <td>Attchd</td>\n",
              "      <td>2001.0</td>\n",
              "      <td>RFn</td>\n",
              "      <td>2</td>\n",
              "      <td>608</td>\n",
              "      <td>TA</td>\n",
              "      <td>TA</td>\n",
              "      <td>Y</td>\n",
              "      <td>0</td>\n",
              "      <td>42</td>\n",
              "      <td>0</td>\n",
              "      <td>0</td>\n",
              "      <td>0</td>\n",
              "      <td>0</td>\n",
              "      <td>None</td>\n",
              "      <td>None</td>\n",
              "      <td>None</td>\n",
              "      <td>0</td>\n",
              "      <td>9</td>\n",
              "      <td>2008</td>\n",
              "      <td>WD</td>\n",
              "      <td>Normal</td>\n",
              "      <td>223500</td>\n",
              "    </tr>\n",
              "    <tr>\n",
              "      <th>3</th>\n",
              "      <td>4</td>\n",
              "      <td>70</td>\n",
              "      <td>RL</td>\n",
              "      <td>60.0</td>\n",
              "      <td>9550</td>\n",
              "      <td>Pave</td>\n",
              "      <td>None</td>\n",
              "      <td>IR1</td>\n",
              "      <td>Lvl</td>\n",
              "      <td>AllPub</td>\n",
              "      <td>Corner</td>\n",
              "      <td>Gtl</td>\n",
              "      <td>Crawfor</td>\n",
              "      <td>Norm</td>\n",
              "      <td>Norm</td>\n",
              "      <td>1Fam</td>\n",
              "      <td>2Story</td>\n",
              "      <td>7</td>\n",
              "      <td>5</td>\n",
              "      <td>1915</td>\n",
              "      <td>1970</td>\n",
              "      <td>Gable</td>\n",
              "      <td>CompShg</td>\n",
              "      <td>Wd Sdng</td>\n",
              "      <td>Wd Shng</td>\n",
              "      <td>None</td>\n",
              "      <td>0.0</td>\n",
              "      <td>TA</td>\n",
              "      <td>TA</td>\n",
              "      <td>BrkTil</td>\n",
              "      <td>TA</td>\n",
              "      <td>Gd</td>\n",
              "      <td>No</td>\n",
              "      <td>ALQ</td>\n",
              "      <td>216</td>\n",
              "      <td>Unf</td>\n",
              "      <td>0</td>\n",
              "      <td>540</td>\n",
              "      <td>756</td>\n",
              "      <td>GasA</td>\n",
              "      <td>...</td>\n",
              "      <td>Y</td>\n",
              "      <td>SBrkr</td>\n",
              "      <td>961</td>\n",
              "      <td>756</td>\n",
              "      <td>0</td>\n",
              "      <td>1717</td>\n",
              "      <td>1</td>\n",
              "      <td>0</td>\n",
              "      <td>1</td>\n",
              "      <td>0</td>\n",
              "      <td>3</td>\n",
              "      <td>1</td>\n",
              "      <td>Gd</td>\n",
              "      <td>7</td>\n",
              "      <td>Typ</td>\n",
              "      <td>1</td>\n",
              "      <td>Gd</td>\n",
              "      <td>Detchd</td>\n",
              "      <td>1998.0</td>\n",
              "      <td>Unf</td>\n",
              "      <td>3</td>\n",
              "      <td>642</td>\n",
              "      <td>TA</td>\n",
              "      <td>TA</td>\n",
              "      <td>Y</td>\n",
              "      <td>0</td>\n",
              "      <td>35</td>\n",
              "      <td>272</td>\n",
              "      <td>0</td>\n",
              "      <td>0</td>\n",
              "      <td>0</td>\n",
              "      <td>None</td>\n",
              "      <td>None</td>\n",
              "      <td>None</td>\n",
              "      <td>0</td>\n",
              "      <td>2</td>\n",
              "      <td>2006</td>\n",
              "      <td>WD</td>\n",
              "      <td>Abnorml</td>\n",
              "      <td>140000</td>\n",
              "    </tr>\n",
              "    <tr>\n",
              "      <th>4</th>\n",
              "      <td>5</td>\n",
              "      <td>60</td>\n",
              "      <td>RL</td>\n",
              "      <td>84.0</td>\n",
              "      <td>14260</td>\n",
              "      <td>Pave</td>\n",
              "      <td>None</td>\n",
              "      <td>IR1</td>\n",
              "      <td>Lvl</td>\n",
              "      <td>AllPub</td>\n",
              "      <td>FR2</td>\n",
              "      <td>Gtl</td>\n",
              "      <td>NoRidge</td>\n",
              "      <td>Norm</td>\n",
              "      <td>Norm</td>\n",
              "      <td>1Fam</td>\n",
              "      <td>2Story</td>\n",
              "      <td>8</td>\n",
              "      <td>5</td>\n",
              "      <td>2000</td>\n",
              "      <td>2000</td>\n",
              "      <td>Gable</td>\n",
              "      <td>CompShg</td>\n",
              "      <td>VinylSd</td>\n",
              "      <td>VinylSd</td>\n",
              "      <td>BrkFace</td>\n",
              "      <td>350.0</td>\n",
              "      <td>Gd</td>\n",
              "      <td>TA</td>\n",
              "      <td>PConc</td>\n",
              "      <td>Gd</td>\n",
              "      <td>TA</td>\n",
              "      <td>Av</td>\n",
              "      <td>GLQ</td>\n",
              "      <td>655</td>\n",
              "      <td>Unf</td>\n",
              "      <td>0</td>\n",
              "      <td>490</td>\n",
              "      <td>1145</td>\n",
              "      <td>GasA</td>\n",
              "      <td>...</td>\n",
              "      <td>Y</td>\n",
              "      <td>SBrkr</td>\n",
              "      <td>1145</td>\n",
              "      <td>1053</td>\n",
              "      <td>0</td>\n",
              "      <td>2198</td>\n",
              "      <td>1</td>\n",
              "      <td>0</td>\n",
              "      <td>2</td>\n",
              "      <td>1</td>\n",
              "      <td>4</td>\n",
              "      <td>1</td>\n",
              "      <td>Gd</td>\n",
              "      <td>9</td>\n",
              "      <td>Typ</td>\n",
              "      <td>1</td>\n",
              "      <td>TA</td>\n",
              "      <td>Attchd</td>\n",
              "      <td>2000.0</td>\n",
              "      <td>RFn</td>\n",
              "      <td>3</td>\n",
              "      <td>836</td>\n",
              "      <td>TA</td>\n",
              "      <td>TA</td>\n",
              "      <td>Y</td>\n",
              "      <td>192</td>\n",
              "      <td>84</td>\n",
              "      <td>0</td>\n",
              "      <td>0</td>\n",
              "      <td>0</td>\n",
              "      <td>0</td>\n",
              "      <td>None</td>\n",
              "      <td>None</td>\n",
              "      <td>None</td>\n",
              "      <td>0</td>\n",
              "      <td>12</td>\n",
              "      <td>2008</td>\n",
              "      <td>WD</td>\n",
              "      <td>Normal</td>\n",
              "      <td>250000</td>\n",
              "    </tr>\n",
              "    <tr>\n",
              "      <th>5</th>\n",
              "      <td>6</td>\n",
              "      <td>50</td>\n",
              "      <td>RL</td>\n",
              "      <td>85.0</td>\n",
              "      <td>14115</td>\n",
              "      <td>Pave</td>\n",
              "      <td>None</td>\n",
              "      <td>IR1</td>\n",
              "      <td>Lvl</td>\n",
              "      <td>AllPub</td>\n",
              "      <td>Inside</td>\n",
              "      <td>Gtl</td>\n",
              "      <td>Mitchel</td>\n",
              "      <td>Norm</td>\n",
              "      <td>Norm</td>\n",
              "      <td>1Fam</td>\n",
              "      <td>1.5Fin</td>\n",
              "      <td>5</td>\n",
              "      <td>5</td>\n",
              "      <td>1993</td>\n",
              "      <td>1995</td>\n",
              "      <td>Gable</td>\n",
              "      <td>CompShg</td>\n",
              "      <td>VinylSd</td>\n",
              "      <td>VinylSd</td>\n",
              "      <td>None</td>\n",
              "      <td>0.0</td>\n",
              "      <td>TA</td>\n",
              "      <td>TA</td>\n",
              "      <td>Wood</td>\n",
              "      <td>Gd</td>\n",
              "      <td>TA</td>\n",
              "      <td>No</td>\n",
              "      <td>GLQ</td>\n",
              "      <td>732</td>\n",
              "      <td>Unf</td>\n",
              "      <td>0</td>\n",
              "      <td>64</td>\n",
              "      <td>796</td>\n",
              "      <td>GasA</td>\n",
              "      <td>...</td>\n",
              "      <td>Y</td>\n",
              "      <td>SBrkr</td>\n",
              "      <td>796</td>\n",
              "      <td>566</td>\n",
              "      <td>0</td>\n",
              "      <td>1362</td>\n",
              "      <td>1</td>\n",
              "      <td>0</td>\n",
              "      <td>1</td>\n",
              "      <td>1</td>\n",
              "      <td>1</td>\n",
              "      <td>1</td>\n",
              "      <td>TA</td>\n",
              "      <td>5</td>\n",
              "      <td>Typ</td>\n",
              "      <td>0</td>\n",
              "      <td>None</td>\n",
              "      <td>Attchd</td>\n",
              "      <td>1993.0</td>\n",
              "      <td>Unf</td>\n",
              "      <td>2</td>\n",
              "      <td>480</td>\n",
              "      <td>TA</td>\n",
              "      <td>TA</td>\n",
              "      <td>Y</td>\n",
              "      <td>40</td>\n",
              "      <td>30</td>\n",
              "      <td>0</td>\n",
              "      <td>320</td>\n",
              "      <td>0</td>\n",
              "      <td>0</td>\n",
              "      <td>None</td>\n",
              "      <td>MnPrv</td>\n",
              "      <td>Shed</td>\n",
              "      <td>700</td>\n",
              "      <td>10</td>\n",
              "      <td>2009</td>\n",
              "      <td>WD</td>\n",
              "      <td>Normal</td>\n",
              "      <td>143000</td>\n",
              "    </tr>\n",
              "    <tr>\n",
              "      <th>6</th>\n",
              "      <td>7</td>\n",
              "      <td>20</td>\n",
              "      <td>RL</td>\n",
              "      <td>75.0</td>\n",
              "      <td>10084</td>\n",
              "      <td>Pave</td>\n",
              "      <td>None</td>\n",
              "      <td>Reg</td>\n",
              "      <td>Lvl</td>\n",
              "      <td>AllPub</td>\n",
              "      <td>Inside</td>\n",
              "      <td>Gtl</td>\n",
              "      <td>Somerst</td>\n",
              "      <td>Norm</td>\n",
              "      <td>Norm</td>\n",
              "      <td>1Fam</td>\n",
              "      <td>1Story</td>\n",
              "      <td>8</td>\n",
              "      <td>5</td>\n",
              "      <td>2004</td>\n",
              "      <td>2005</td>\n",
              "      <td>Gable</td>\n",
              "      <td>CompShg</td>\n",
              "      <td>VinylSd</td>\n",
              "      <td>VinylSd</td>\n",
              "      <td>Stone</td>\n",
              "      <td>186.0</td>\n",
              "      <td>Gd</td>\n",
              "      <td>TA</td>\n",
              "      <td>PConc</td>\n",
              "      <td>Ex</td>\n",
              "      <td>TA</td>\n",
              "      <td>Av</td>\n",
              "      <td>GLQ</td>\n",
              "      <td>1369</td>\n",
              "      <td>Unf</td>\n",
              "      <td>0</td>\n",
              "      <td>317</td>\n",
              "      <td>1686</td>\n",
              "      <td>GasA</td>\n",
              "      <td>...</td>\n",
              "      <td>Y</td>\n",
              "      <td>SBrkr</td>\n",
              "      <td>1694</td>\n",
              "      <td>0</td>\n",
              "      <td>0</td>\n",
              "      <td>1694</td>\n",
              "      <td>1</td>\n",
              "      <td>0</td>\n",
              "      <td>2</td>\n",
              "      <td>0</td>\n",
              "      <td>3</td>\n",
              "      <td>1</td>\n",
              "      <td>Gd</td>\n",
              "      <td>7</td>\n",
              "      <td>Typ</td>\n",
              "      <td>1</td>\n",
              "      <td>Gd</td>\n",
              "      <td>Attchd</td>\n",
              "      <td>2004.0</td>\n",
              "      <td>RFn</td>\n",
              "      <td>2</td>\n",
              "      <td>636</td>\n",
              "      <td>TA</td>\n",
              "      <td>TA</td>\n",
              "      <td>Y</td>\n",
              "      <td>255</td>\n",
              "      <td>57</td>\n",
              "      <td>0</td>\n",
              "      <td>0</td>\n",
              "      <td>0</td>\n",
              "      <td>0</td>\n",
              "      <td>None</td>\n",
              "      <td>None</td>\n",
              "      <td>None</td>\n",
              "      <td>0</td>\n",
              "      <td>8</td>\n",
              "      <td>2007</td>\n",
              "      <td>WD</td>\n",
              "      <td>Normal</td>\n",
              "      <td>307000</td>\n",
              "    </tr>\n",
              "    <tr>\n",
              "      <th>7</th>\n",
              "      <td>8</td>\n",
              "      <td>60</td>\n",
              "      <td>RL</td>\n",
              "      <td>NaN</td>\n",
              "      <td>10382</td>\n",
              "      <td>Pave</td>\n",
              "      <td>None</td>\n",
              "      <td>IR1</td>\n",
              "      <td>Lvl</td>\n",
              "      <td>AllPub</td>\n",
              "      <td>Corner</td>\n",
              "      <td>Gtl</td>\n",
              "      <td>NWAmes</td>\n",
              "      <td>PosN</td>\n",
              "      <td>Norm</td>\n",
              "      <td>1Fam</td>\n",
              "      <td>2Story</td>\n",
              "      <td>7</td>\n",
              "      <td>6</td>\n",
              "      <td>1973</td>\n",
              "      <td>1973</td>\n",
              "      <td>Gable</td>\n",
              "      <td>CompShg</td>\n",
              "      <td>HdBoard</td>\n",
              "      <td>HdBoard</td>\n",
              "      <td>Stone</td>\n",
              "      <td>240.0</td>\n",
              "      <td>TA</td>\n",
              "      <td>TA</td>\n",
              "      <td>CBlock</td>\n",
              "      <td>Gd</td>\n",
              "      <td>TA</td>\n",
              "      <td>Mn</td>\n",
              "      <td>ALQ</td>\n",
              "      <td>859</td>\n",
              "      <td>BLQ</td>\n",
              "      <td>32</td>\n",
              "      <td>216</td>\n",
              "      <td>1107</td>\n",
              "      <td>GasA</td>\n",
              "      <td>...</td>\n",
              "      <td>Y</td>\n",
              "      <td>SBrkr</td>\n",
              "      <td>1107</td>\n",
              "      <td>983</td>\n",
              "      <td>0</td>\n",
              "      <td>2090</td>\n",
              "      <td>1</td>\n",
              "      <td>0</td>\n",
              "      <td>2</td>\n",
              "      <td>1</td>\n",
              "      <td>3</td>\n",
              "      <td>1</td>\n",
              "      <td>TA</td>\n",
              "      <td>7</td>\n",
              "      <td>Typ</td>\n",
              "      <td>2</td>\n",
              "      <td>TA</td>\n",
              "      <td>Attchd</td>\n",
              "      <td>1973.0</td>\n",
              "      <td>RFn</td>\n",
              "      <td>2</td>\n",
              "      <td>484</td>\n",
              "      <td>TA</td>\n",
              "      <td>TA</td>\n",
              "      <td>Y</td>\n",
              "      <td>235</td>\n",
              "      <td>204</td>\n",
              "      <td>228</td>\n",
              "      <td>0</td>\n",
              "      <td>0</td>\n",
              "      <td>0</td>\n",
              "      <td>None</td>\n",
              "      <td>None</td>\n",
              "      <td>Shed</td>\n",
              "      <td>350</td>\n",
              "      <td>11</td>\n",
              "      <td>2009</td>\n",
              "      <td>WD</td>\n",
              "      <td>Normal</td>\n",
              "      <td>200000</td>\n",
              "    </tr>\n",
              "    <tr>\n",
              "      <th>8</th>\n",
              "      <td>9</td>\n",
              "      <td>50</td>\n",
              "      <td>RM</td>\n",
              "      <td>51.0</td>\n",
              "      <td>6120</td>\n",
              "      <td>Pave</td>\n",
              "      <td>None</td>\n",
              "      <td>Reg</td>\n",
              "      <td>Lvl</td>\n",
              "      <td>AllPub</td>\n",
              "      <td>Inside</td>\n",
              "      <td>Gtl</td>\n",
              "      <td>OldTown</td>\n",
              "      <td>Artery</td>\n",
              "      <td>Norm</td>\n",
              "      <td>1Fam</td>\n",
              "      <td>1.5Fin</td>\n",
              "      <td>7</td>\n",
              "      <td>5</td>\n",
              "      <td>1931</td>\n",
              "      <td>1950</td>\n",
              "      <td>Gable</td>\n",
              "      <td>CompShg</td>\n",
              "      <td>BrkFace</td>\n",
              "      <td>Wd Shng</td>\n",
              "      <td>None</td>\n",
              "      <td>0.0</td>\n",
              "      <td>TA</td>\n",
              "      <td>TA</td>\n",
              "      <td>BrkTil</td>\n",
              "      <td>TA</td>\n",
              "      <td>TA</td>\n",
              "      <td>No</td>\n",
              "      <td>Unf</td>\n",
              "      <td>0</td>\n",
              "      <td>Unf</td>\n",
              "      <td>0</td>\n",
              "      <td>952</td>\n",
              "      <td>952</td>\n",
              "      <td>GasA</td>\n",
              "      <td>...</td>\n",
              "      <td>Y</td>\n",
              "      <td>FuseF</td>\n",
              "      <td>1022</td>\n",
              "      <td>752</td>\n",
              "      <td>0</td>\n",
              "      <td>1774</td>\n",
              "      <td>0</td>\n",
              "      <td>0</td>\n",
              "      <td>2</td>\n",
              "      <td>0</td>\n",
              "      <td>2</td>\n",
              "      <td>2</td>\n",
              "      <td>TA</td>\n",
              "      <td>8</td>\n",
              "      <td>Min1</td>\n",
              "      <td>2</td>\n",
              "      <td>TA</td>\n",
              "      <td>Detchd</td>\n",
              "      <td>1931.0</td>\n",
              "      <td>Unf</td>\n",
              "      <td>2</td>\n",
              "      <td>468</td>\n",
              "      <td>Fa</td>\n",
              "      <td>TA</td>\n",
              "      <td>Y</td>\n",
              "      <td>90</td>\n",
              "      <td>0</td>\n",
              "      <td>205</td>\n",
              "      <td>0</td>\n",
              "      <td>0</td>\n",
              "      <td>0</td>\n",
              "      <td>None</td>\n",
              "      <td>None</td>\n",
              "      <td>None</td>\n",
              "      <td>0</td>\n",
              "      <td>4</td>\n",
              "      <td>2008</td>\n",
              "      <td>WD</td>\n",
              "      <td>Abnorml</td>\n",
              "      <td>129900</td>\n",
              "    </tr>\n",
              "    <tr>\n",
              "      <th>9</th>\n",
              "      <td>10</td>\n",
              "      <td>190</td>\n",
              "      <td>RL</td>\n",
              "      <td>50.0</td>\n",
              "      <td>7420</td>\n",
              "      <td>Pave</td>\n",
              "      <td>None</td>\n",
              "      <td>Reg</td>\n",
              "      <td>Lvl</td>\n",
              "      <td>AllPub</td>\n",
              "      <td>Corner</td>\n",
              "      <td>Gtl</td>\n",
              "      <td>BrkSide</td>\n",
              "      <td>Artery</td>\n",
              "      <td>Artery</td>\n",
              "      <td>2fmCon</td>\n",
              "      <td>1.5Unf</td>\n",
              "      <td>5</td>\n",
              "      <td>6</td>\n",
              "      <td>1939</td>\n",
              "      <td>1950</td>\n",
              "      <td>Gable</td>\n",
              "      <td>CompShg</td>\n",
              "      <td>MetalSd</td>\n",
              "      <td>MetalSd</td>\n",
              "      <td>None</td>\n",
              "      <td>0.0</td>\n",
              "      <td>TA</td>\n",
              "      <td>TA</td>\n",
              "      <td>BrkTil</td>\n",
              "      <td>TA</td>\n",
              "      <td>TA</td>\n",
              "      <td>No</td>\n",
              "      <td>GLQ</td>\n",
              "      <td>851</td>\n",
              "      <td>Unf</td>\n",
              "      <td>0</td>\n",
              "      <td>140</td>\n",
              "      <td>991</td>\n",
              "      <td>GasA</td>\n",
              "      <td>...</td>\n",
              "      <td>Y</td>\n",
              "      <td>SBrkr</td>\n",
              "      <td>1077</td>\n",
              "      <td>0</td>\n",
              "      <td>0</td>\n",
              "      <td>1077</td>\n",
              "      <td>1</td>\n",
              "      <td>0</td>\n",
              "      <td>1</td>\n",
              "      <td>0</td>\n",
              "      <td>2</td>\n",
              "      <td>2</td>\n",
              "      <td>TA</td>\n",
              "      <td>5</td>\n",
              "      <td>Typ</td>\n",
              "      <td>2</td>\n",
              "      <td>TA</td>\n",
              "      <td>Attchd</td>\n",
              "      <td>1939.0</td>\n",
              "      <td>RFn</td>\n",
              "      <td>1</td>\n",
              "      <td>205</td>\n",
              "      <td>Gd</td>\n",
              "      <td>TA</td>\n",
              "      <td>Y</td>\n",
              "      <td>0</td>\n",
              "      <td>4</td>\n",
              "      <td>0</td>\n",
              "      <td>0</td>\n",
              "      <td>0</td>\n",
              "      <td>0</td>\n",
              "      <td>None</td>\n",
              "      <td>None</td>\n",
              "      <td>None</td>\n",
              "      <td>0</td>\n",
              "      <td>1</td>\n",
              "      <td>2008</td>\n",
              "      <td>WD</td>\n",
              "      <td>Normal</td>\n",
              "      <td>118000</td>\n",
              "    </tr>\n",
              "  </tbody>\n",
              "</table>\n",
              "<p>10 rows × 81 columns</p>\n",
              "</div>"
            ],
            "text/plain": [
              "   id  mssubclass mszoning  ...  saletype  salecondition saleprice\n",
              "0   1          60       RL  ...        WD         Normal    208500\n",
              "1   2          20       RL  ...        WD         Normal    181500\n",
              "2   3          60       RL  ...        WD         Normal    223500\n",
              "3   4          70       RL  ...        WD        Abnorml    140000\n",
              "4   5          60       RL  ...        WD         Normal    250000\n",
              "5   6          50       RL  ...        WD         Normal    143000\n",
              "6   7          20       RL  ...        WD         Normal    307000\n",
              "7   8          60       RL  ...        WD         Normal    200000\n",
              "8   9          50       RM  ...        WD        Abnorml    129900\n",
              "9  10         190       RL  ...        WD         Normal    118000\n",
              "\n",
              "[10 rows x 81 columns]"
            ]
          },
          "metadata": {
            "tags": []
          },
          "execution_count": 2
        }
      ]
    },
    {
      "cell_type": "code",
      "metadata": {
        "id": "Gsi8wX9bsa3C",
        "outputId": "9df7637b-9766-410f-8d11-ad90f09bba93",
        "colab": {
          "base_uri": "https://localhost:8080/",
          "height": 1000
        }
      },
      "source": [
        "house_df.info()"
      ],
      "execution_count": null,
      "outputs": [
        {
          "output_type": "stream",
          "text": [
            "<class 'pandas.core.frame.DataFrame'>\n",
            "RangeIndex: 1460 entries, 0 to 1459\n",
            "Data columns (total 81 columns):\n",
            " #   Column         Non-Null Count  Dtype  \n",
            "---  ------         --------------  -----  \n",
            " 0   id             1460 non-null   int64  \n",
            " 1   mssubclass     1460 non-null   int64  \n",
            " 2   mszoning       1460 non-null   object \n",
            " 3   lotfrontage    1201 non-null   float64\n",
            " 4   lotarea        1460 non-null   int64  \n",
            " 5   street         1460 non-null   object \n",
            " 6   alley          91 non-null     object \n",
            " 7   lotshape       1460 non-null   object \n",
            " 8   landcontour    1460 non-null   object \n",
            " 9   utilities      1460 non-null   object \n",
            " 10  lotconfig      1460 non-null   object \n",
            " 11  landslope      1460 non-null   object \n",
            " 12  neighborhood   1460 non-null   object \n",
            " 13  condition1     1460 non-null   object \n",
            " 14  condition2     1460 non-null   object \n",
            " 15  bldgtype       1460 non-null   object \n",
            " 16  housestyle     1460 non-null   object \n",
            " 17  overallqual    1460 non-null   int64  \n",
            " 18  overallcond    1460 non-null   int64  \n",
            " 19  yearbuilt      1460 non-null   int64  \n",
            " 20  yearremodadd   1460 non-null   int64  \n",
            " 21  roofstyle      1460 non-null   object \n",
            " 22  roofmatl       1460 non-null   object \n",
            " 23  exterior1st    1460 non-null   object \n",
            " 24  exterior2nd    1460 non-null   object \n",
            " 25  masvnrtype     1452 non-null   object \n",
            " 26  masvnrarea     1452 non-null   float64\n",
            " 27  exterqual      1460 non-null   object \n",
            " 28  extercond      1460 non-null   object \n",
            " 29  foundation     1460 non-null   object \n",
            " 30  bsmtqual       1423 non-null   object \n",
            " 31  bsmtcond       1423 non-null   object \n",
            " 32  bsmtexposure   1422 non-null   object \n",
            " 33  bsmtfintype1   1423 non-null   object \n",
            " 34  bsmtfinsf1     1460 non-null   int64  \n",
            " 35  bsmtfintype2   1422 non-null   object \n",
            " 36  bsmtfinsf2     1460 non-null   int64  \n",
            " 37  bsmtunfsf      1460 non-null   int64  \n",
            " 38  totalbsmtsf    1460 non-null   int64  \n",
            " 39  heating        1460 non-null   object \n",
            " 40  heatingqc      1460 non-null   object \n",
            " 41  centralair     1460 non-null   object \n",
            " 42  electrical     1459 non-null   object \n",
            " 43  firstflrsf     1460 non-null   int64  \n",
            " 44  secondflrsf    1460 non-null   int64  \n",
            " 45  lowqualfinsf   1460 non-null   int64  \n",
            " 46  grlivarea      1460 non-null   int64  \n",
            " 47  bsmtfullbath   1460 non-null   int64  \n",
            " 48  bsmthalfbath   1460 non-null   int64  \n",
            " 49  fullbath       1460 non-null   int64  \n",
            " 50  halfbath       1460 non-null   int64  \n",
            " 51  bedroomabvgr   1460 non-null   int64  \n",
            " 52  kitchenabvgr   1460 non-null   int64  \n",
            " 53  kitchenqual    1460 non-null   object \n",
            " 54  totrmsabvgrd   1460 non-null   int64  \n",
            " 55  functional     1460 non-null   object \n",
            " 56  fireplaces     1460 non-null   int64  \n",
            " 57  fireplacequ    770 non-null    object \n",
            " 58  garagetype     1379 non-null   object \n",
            " 59  garageyrblt    1379 non-null   float64\n",
            " 60  garagefinish   1379 non-null   object \n",
            " 61  garagecars     1460 non-null   int64  \n",
            " 62  garagearea     1460 non-null   int64  \n",
            " 63  garagequal     1379 non-null   object \n",
            " 64  garagecond     1379 non-null   object \n",
            " 65  paveddrive     1460 non-null   object \n",
            " 66  wooddecksf     1460 non-null   int64  \n",
            " 67  openporchsf    1460 non-null   int64  \n",
            " 68  enclosedporch  1460 non-null   int64  \n",
            " 69  threessnporch  1460 non-null   int64  \n",
            " 70  screenporch    1460 non-null   int64  \n",
            " 71  poolarea       1460 non-null   int64  \n",
            " 72  poolqc         7 non-null      object \n",
            " 73  fence          281 non-null    object \n",
            " 74  miscfeature    54 non-null     object \n",
            " 75  miscval        1460 non-null   int64  \n",
            " 76  mosold         1460 non-null   int64  \n",
            " 77  yrsold         1460 non-null   int64  \n",
            " 78  saletype       1460 non-null   object \n",
            " 79  salecondition  1460 non-null   object \n",
            " 80  saleprice      1460 non-null   int64  \n",
            "dtypes: float64(3), int64(35), object(43)\n",
            "memory usage: 924.0+ KB\n"
          ],
          "name": "stdout"
        }
      ]
    },
    {
      "cell_type": "markdown",
      "metadata": {
        "id": "vxqf65ezrhgR"
      },
      "source": [
        "Before building our initial model we need to do some data cleaning. There are also a lot of features here, so we'll want to choose a few that we think will perform the best."
      ]
    },
    {
      "cell_type": "code",
      "metadata": {
        "id": "4cZCVWWHrVkz",
        "outputId": "3afb0717-bc9e-4f39-80cd-245da022612b",
        "colab": {
          "base_uri": "https://localhost:8080/",
          "height": 663
        }
      },
      "source": [
        "# collect numeric columns, show thier correlation with sale price\n",
        "\n",
        "num_cols = house_df.select_dtypes(['int64', 'float64']).columns\n",
        "house_df[num_cols].iloc[:,1:].corr().loc[:,\"saleprice\"].sort_values(ascending=False)"
      ],
      "execution_count": null,
      "outputs": [
        {
          "output_type": "execute_result",
          "data": {
            "text/plain": [
              "saleprice        1.000000\n",
              "overallqual      0.790982\n",
              "grlivarea        0.708624\n",
              "garagecars       0.640409\n",
              "garagearea       0.623431\n",
              "totalbsmtsf      0.613581\n",
              "firstflrsf       0.605852\n",
              "fullbath         0.560664\n",
              "totrmsabvgrd     0.533723\n",
              "yearbuilt        0.522897\n",
              "yearremodadd     0.507101\n",
              "garageyrblt      0.486362\n",
              "masvnrarea       0.477493\n",
              "fireplaces       0.466929\n",
              "bsmtfinsf1       0.386420\n",
              "lotfrontage      0.351799\n",
              "wooddecksf       0.324413\n",
              "secondflrsf      0.319334\n",
              "openporchsf      0.315856\n",
              "halfbath         0.284108\n",
              "lotarea          0.263843\n",
              "bsmtfullbath     0.227122\n",
              "bsmtunfsf        0.214479\n",
              "bedroomabvgr     0.168213\n",
              "screenporch      0.111447\n",
              "poolarea         0.092404\n",
              "mosold           0.046432\n",
              "threessnporch    0.044584\n",
              "bsmtfinsf2      -0.011378\n",
              "bsmthalfbath    -0.016844\n",
              "miscval         -0.021190\n",
              "lowqualfinsf    -0.025606\n",
              "yrsold          -0.028923\n",
              "overallcond     -0.077856\n",
              "mssubclass      -0.084284\n",
              "enclosedporch   -0.128578\n",
              "kitchenabvgr    -0.135907\n",
              "Name: saleprice, dtype: float64"
            ]
          },
          "metadata": {
            "tags": []
          },
          "execution_count": 4
        }
      ]
    },
    {
      "cell_type": "markdown",
      "metadata": {
        "id": "A_0XawwP5hvY"
      },
      "source": [
        "### Initial model"
      ]
    },
    {
      "cell_type": "markdown",
      "metadata": {
        "id": "2SHkTru6vWyc"
      },
      "source": [
        "Since we are only building a basic model with plans to improve it later, I will simply pick the top 5 features, only omitting features with extreme collinearity such as in the case of 'garagecars' and 'garagearea' columns."
      ]
    },
    {
      "cell_type": "code",
      "metadata": {
        "id": "XVZch0MSrsEi"
      },
      "source": [
        "X = house_df[['overallqual', 'grlivarea', 'garagecars', 'totalbsmtsf', 'firstflrsf']]\n",
        "y = house_df.saleprice"
      ],
      "execution_count": null,
      "outputs": []
    },
    {
      "cell_type": "code",
      "metadata": {
        "id": "_-o-ZEtGwRpJ",
        "outputId": "eaa58f58-dea2-41a4-8e32-735c935dcdf5",
        "colab": {
          "base_uri": "https://localhost:8080/",
          "height": 544
        }
      },
      "source": [
        "X = sm.add_constant(X)\n",
        "\n",
        "model = sm.OLS(y, X).fit()\n",
        "print(model.summary())"
      ],
      "execution_count": null,
      "outputs": [
        {
          "output_type": "stream",
          "text": [
            "                            OLS Regression Results                            \n",
            "==============================================================================\n",
            "Dep. Variable:              saleprice   R-squared:                       0.762\n",
            "Model:                            OLS   Adj. R-squared:                  0.761\n",
            "Method:                 Least Squares   F-statistic:                     928.8\n",
            "Date:                Tue, 15 Sep 2020   Prob (F-statistic):               0.00\n",
            "Time:                        21:36:22   Log-Likelihood:                -17497.\n",
            "No. Observations:                1460   AIC:                         3.501e+04\n",
            "Df Residuals:                    1454   BIC:                         3.504e+04\n",
            "Df Model:                           5                                         \n",
            "Covariance Type:            nonrobust                                         \n",
            "===============================================================================\n",
            "                  coef    std err          t      P>|t|      [0.025      0.975]\n",
            "-------------------------------------------------------------------------------\n",
            "const        -1.03e+05   4901.609    -21.006      0.000   -1.13e+05   -9.33e+04\n",
            "overallqual  2.396e+04   1083.493     22.109      0.000    2.18e+04    2.61e+04\n",
            "grlivarea      43.2993      2.678     16.170      0.000      38.047      48.552\n",
            "garagecars   1.819e+04   1752.914     10.377      0.000    1.48e+04    2.16e+04\n",
            "totalbsmtsf    25.0167      4.299      5.819      0.000      16.583      33.450\n",
            "firstflrsf     11.6608      5.024      2.321      0.020       1.805      21.516\n",
            "==============================================================================\n",
            "Omnibus:                      417.210   Durbin-Watson:                   1.973\n",
            "Prob(Omnibus):                  0.000   Jarque-Bera (JB):            35788.405\n",
            "Skew:                          -0.254   Prob(JB):                         0.00\n",
            "Kurtosis:                      27.250   Cond. No.                     1.11e+04\n",
            "==============================================================================\n",
            "\n",
            "Warnings:\n",
            "[1] Standard Errors assume that the covariance matrix of the errors is correctly specified.\n",
            "[2] The condition number is large, 1.11e+04. This might indicate that there are\n",
            "strong multicollinearity or other numerical problems.\n"
          ],
          "name": "stdout"
        }
      ]
    },
    {
      "cell_type": "code",
      "metadata": {
        "id": "oBS9feKtwvuM",
        "outputId": "a30cfe6f-7c11-4910-fe5e-95e974defc14",
        "colab": {
          "base_uri": "https://localhost:8080/",
          "height": 221
        }
      },
      "source": [
        "predictions = model.predict(X)\n",
        "print(predictions)"
      ],
      "execution_count": null,
      "outputs": [
        {
          "output_type": "stream",
          "text": [
            "0       206542.225230\n",
            "1       178079.953333\n",
            "2       212180.326267\n",
            "3       223758.871513\n",
            "4       280418.133862\n",
            "            ...      \n",
            "1455    183416.835622\n",
            "1456    229657.221721\n",
            "1457    226906.240434\n",
            "1458    121218.153143\n",
            "1459    135454.008782\n",
            "Length: 1460, dtype: float64\n"
          ],
          "name": "stdout"
        }
      ]
    },
    {
      "cell_type": "markdown",
      "metadata": {
        "id": "Eay6nGow5VVd"
      },
      "source": [
        "### Assumptions of linear regression"
      ]
    },
    {
      "cell_type": "markdown",
      "metadata": {
        "id": "htIUYGfN54Rl"
      },
      "source": [
        "There are six assumptions of linear regression.\n",
        "\n",
        "1. linearity of models in their coefficients\n",
        "2. the error term should be zero on average\n",
        "3. homoscedasticity\n",
        "4. low multicollinearity\n",
        "5. error terms should be uncorrelated with one another\n",
        "6. features shouldn't be correlated with the errors\n",
        "\n",
        "We also want to check the normality of the errors...While not required for OLS regression, in order to measure the statistical significance of our estimated coefficients, the error terms must be normally distributed.\n"
      ]
    },
    {
      "cell_type": "markdown",
      "metadata": {
        "id": "7l99Ow_J79PI"
      },
      "source": [
        "#### Linearity of coefficients\n",
        "\n",
        "Since OLS determines the coefficients and takes into account the assumption of linearity between them, we do not need to worry about this one."
      ]
    },
    {
      "cell_type": "markdown",
      "metadata": {
        "id": "CeJLvOBV8IJq"
      },
      "source": [
        "#### Error term 0 on average\n",
        "\n",
        "As long as we include a constant in our model, we should not have to worry about this assumption as the constant will force the error terms to be 0 on average. As we can see below, this is the case with our model and the error term is effectively zero."
      ]
    },
    {
      "cell_type": "code",
      "metadata": {
        "id": "HCdBIlAf8HQ-",
        "outputId": "f5c53172-35e8-4313-f5a4-6785a4bf6916",
        "colab": {
          "base_uri": "https://localhost:8080/"
        }
      },
      "source": [
        "errors = y - predictions\n",
        "\n",
        "print(\"Mean of the errors in the medical costs model is: {}\".format(np.mean(errors)))"
      ],
      "execution_count": null,
      "outputs": [
        {
          "output_type": "stream",
          "text": [
            "Mean of the errors in the medical costs model is: 7.3233510093278675e-09\n"
          ],
          "name": "stdout"
        }
      ]
    },
    {
      "cell_type": "markdown",
      "metadata": {
        "id": "a8M5MGTK8q0L"
      },
      "source": [
        "#### Homoscedasticity\n",
        "\n",
        "A model is **homoscedastic** when the distribution of its error terms (known as \"scedasticity\") is consistent for all predicted values. In other words, the error variance shouldn't systematically change across observations. When this assumption is not met, we are dealing with **heteroscedasticity**.\n",
        "\n",
        "There are several formal statistical tests that we can use to determine whether there is heteroscedasticity in the error terms. We will use **Bartlett** and **Levene** tests.\n",
        "\n",
        "The null hypothesis of these tests is that the errors are homoscedastic."
      ]
    },
    {
      "cell_type": "code",
      "metadata": {
        "id": "8CBGSi5-xWJM",
        "outputId": "b6dde977-58f1-4245-bedb-21b9455d125e",
        "colab": {
          "base_uri": "https://localhost:8080/"
        }
      },
      "source": [
        "from scipy.stats import bartlett\n",
        "from scipy.stats import levene\n",
        "\n",
        "bart_stats = bartlett(predictions, errors)\n",
        "lev_stats = levene(predictions, errors)\n",
        "\n",
        "print(\"Bartlett test statistic value is {0:3g} and p value is {1:.3g}\".format(bart_stats[0], bart_stats[1]))\n",
        "print(\"Levene test statistic value is {0:3g} and p value is {1:.3g}\".format(lev_stats[0], lev_stats[1]))"
      ],
      "execution_count": null,
      "outputs": [
        {
          "output_type": "stream",
          "text": [
            "Bartlett test statistic value is 466.29 and p value is 2.06e-103\n",
            "Levene test statistic value is 450.721 and p value is 3.92e-93\n"
          ],
          "name": "stdout"
        }
      ]
    },
    {
      "cell_type": "markdown",
      "metadata": {
        "id": "W52BgmTt9XnM"
      },
      "source": [
        "We can see that the p-value of both tests is less than .05, meaning we reject the null hypothesis. This means our errors are heteroscedastic. \n",
        "\n",
        "Even though our model suffers from the heteroscedasticity, the estimated coefficients are still valid (more formally, they are consistent but we will not discuss consistency of the estimations now). The only problem is with the reliability of some statistical tests like t-test. Heteroscedasticity may also make some estimated coefficients seem to be statistically insignificant. "
      ]
    },
    {
      "cell_type": "markdown",
      "metadata": {
        "id": "rDAmcRRw90oQ"
      },
      "source": [
        "#### Low multicollinearity"
      ]
    },
    {
      "cell_type": "markdown",
      "metadata": {
        "id": "atjOKhKK-CgZ"
      },
      "source": [
        "Individual features should be only weakly correlated with one another, and ideally completely uncorrelated. When features are correlated, they may both explain the same pattern of variance in the outcome. \n",
        "\n",
        "To detect multicollinearity, we can simply look at the correlation matrix of the features. Multicollinearity can be fixed by PCA or by discarding some of the correlated features."
      ]
    },
    {
      "cell_type": "markdown",
      "metadata": {
        "id": "pW1dJJWh-Gy4"
      },
      "source": [
        "#### Error terms uncorrelated with each other"
      ]
    },
    {
      "cell_type": "code",
      "metadata": {
        "id": "LKmw0g_T9R1R",
        "outputId": "92c65544-cd1a-4828-e159-5542f4726d5b",
        "colab": {
          "base_uri": "https://localhost:8080/"
        }
      },
      "source": [
        "plt.plot(errors)\n",
        "plt.show()"
      ],
      "execution_count": null,
      "outputs": [
        {
          "output_type": "display_data",
          "data": {
            "image/png": "[encoded data removed]",
            "text/plain": [
              "<Figure size 432x288 with 1 Axes>"
            ]
          },
          "metadata": {
            "tags": [],
            "needs_background": "light"
          }
        }
      ]
    },
    {
      "cell_type": "markdown",
      "metadata": {
        "id": "vcB1eO3r-Zre"
      },
      "source": [
        "It seems that the error terms of our model are uncorrelated with each other.\n",
        "\n",
        "Another way to look at correlations between errors is to use the autocorrelation function. This function computes the correlation of a variable with itself. In our case, the order of the errors are the orders of the observations."
      ]
    },
    {
      "cell_type": "code",
      "metadata": {
        "id": "1fp2OQtE-RO0",
        "outputId": "00afd2fa-1a20-48eb-e156-8a5be3e6983f",
        "colab": {
          "base_uri": "https://localhost:8080/"
        }
      },
      "source": [
        "from statsmodels.tsa.stattools import acf\n",
        "\n",
        "acf_data = acf(errors)\n",
        "\n",
        "plt.plot(acf_data[1:])\n",
        "plt.show()"
      ],
      "execution_count": null,
      "outputs": [
        {
          "output_type": "display_data",
          "data": {
            "image/png": "[encoded data removed]",
            "text/plain": [
              "<Figure size 432x288 with 1 Axes>"
            ]
          },
          "metadata": {
            "tags": [],
            "needs_background": "light"
          }
        }
      ]
    },
    {
      "cell_type": "markdown",
      "metadata": {
        "id": "-ipBVRB2-dFk"
      },
      "source": [
        "So, the autocorrelation between the errors of our medical costs model is indeed very low (ranging between -0.06 and 0.06)."
      ]
    },
    {
      "cell_type": "markdown",
      "metadata": {
        "id": "DuyNKctY-h7b"
      },
      "source": [
        "#### Features shouldn't be correlated with the errors"
      ]
    },
    {
      "cell_type": "markdown",
      "metadata": {
        "id": "nY_eFqIZ-qu4"
      },
      "source": [
        "Last but definitely not least, and arguably the most important assumption: explanatory variables and errors should be independent. If this assumption doesn't hold, then the model's predictions will be unreliable as the estimates of the coefficients would be biased. This assumption is known as the **exogeneity**.\n",
        "\n",
        "Violations of the exogeneity assumption may have several sources. Common causes are omitted variables and simultaneous causation between independent variables and the target. If the problem stems from simultaneous causation then we need to apply some advanced techniques to solve for the issue but this is beyond the scope of this project."
      ]
    },
    {
      "cell_type": "markdown",
      "metadata": {
        "id": "w-CHfZen-2vX"
      },
      "source": [
        "#### Normality of errors\n"
      ]
    },
    {
      "cell_type": "markdown",
      "metadata": {
        "id": "Ik3BaxjO-5-b"
      },
      "source": [
        "Although it is not an assumption of OLS, normality of errors is still required in order to measure the statistical significance of our estimated coefficients.\n",
        "\n",
        "More often than not, non-normally distributed errors stem from omitted variables. Including the omitted relevant features to the model may help fix the issue. Sometimes, transforming the dependent variable also helps.\n",
        "\n",
        "There are various ways to check for normality of error terms. An informal way of doing this is by visualizing the errors in a QQ plot or to look at the histogram:"
      ]
    },
    {
      "cell_type": "code",
      "metadata": {
        "id": "3WH-7r29-cEG",
        "outputId": "1c7d0ffd-f847-4ad3-a576-f9ba27ca2ea4",
        "colab": {
          "base_uri": "https://localhost:8080/"
        }
      },
      "source": [
        "rand_nums = np.random.normal(np.mean(errors), np.std(errors), len(errors))\n",
        "\n",
        "plt.figure(figsize=(12,5))\n",
        "\n",
        "plt.subplot(1,2,1)\n",
        "plt.scatter(np.sort(rand_nums), np.sort(errors)) # we sort the arrays\n",
        "plt.xlabel(\"the normally distributed random variable\")\n",
        "plt.ylabel(\"errors of the model\")\n",
        "plt.title(\"QQ plot\")\n",
        "\n",
        "plt.subplot(1,2,2)\n",
        "plt.hist(errors)\n",
        "plt.xlabel(\"errors\")\n",
        "plt.title(\"Histogram of the errors\")\n",
        "\n",
        "plt.tight_layout()\n",
        "plt.show()"
      ],
      "execution_count": null,
      "outputs": [
        {
          "output_type": "display_data",
          "data": {
            "image/png": "[encoded data removed]",
            "text/plain": [
              "<Figure size 864x360 with 2 Axes>"
            ]
          },
          "metadata": {
            "tags": [],
            "needs_background": "light"
          }
        }
      ]
    },
    {
      "cell_type": "markdown",
      "metadata": {
        "id": "om7HEP9-_NMu"
      },
      "source": [
        "While visualizations give us a first impression about normality, the best way to learn about this is to apply formal statistical tests. To this end, we use two of them from scipy's stats module: **Jarque Bera** and **normal** tests. The null hypothesis of both tests is that the errors are normally distributed."
      ]
    },
    {
      "cell_type": "code",
      "metadata": {
        "id": "4SLgm2Pq_LsU",
        "outputId": "7a1c6cc7-5e0e-49e0-f3ed-87d9710d7b1e",
        "colab": {
          "base_uri": "https://localhost:8080/"
        }
      },
      "source": [
        "from scipy.stats import jarque_bera\n",
        "from scipy.stats import normaltest\n",
        "\n",
        "jb_stats = jarque_bera(errors)\n",
        "norm_stats = normaltest(errors)\n",
        "\n",
        "print(\"Jarque-Bera test statistics is {0} and p value is {1}\".format(jb_stats[0], jb_stats[1]))\n",
        "print(\"Normality test statistics is {0} and p value is {1}\".format(norm_stats[0], norm_stats[1]))"
      ],
      "execution_count": null,
      "outputs": [
        {
          "output_type": "stream",
          "text": [
            "Jarque-Bera test statistics is 35788.40470560869 and p value is 0.0\n",
            "Normality test statistics is 417.21030061805965 and p value is 2.5347452868339113e-91\n"
          ],
          "name": "stdout"
        }
      ]
    },
    {
      "cell_type": "markdown",
      "metadata": {
        "id": "Jes05Z0gAQeu"
      },
      "source": [
        "The p-values of both tests indicate that our errors are not normally distributed."
      ]
    },
    {
      "cell_type": "markdown",
      "metadata": {
        "id": "VkqYlLZ9Tlf1"
      },
      "source": [
        "### Interpreting estimated coefficients and evaluating performance"
      ]
    },
    {
      "cell_type": "code",
      "metadata": {
        "id": "c7PU0QiOANX0",
        "outputId": "f3f246e8-b281-4f22-f60d-582ebc26fd54",
        "colab": {
          "base_uri": "https://localhost:8080/"
        }
      },
      "source": [
        "print(model.summary())"
      ],
      "execution_count": null,
      "outputs": [
        {
          "output_type": "stream",
          "text": [
            "                            OLS Regression Results                            \n",
            "==============================================================================\n",
            "Dep. Variable:              saleprice   R-squared:                       0.762\n",
            "Model:                            OLS   Adj. R-squared:                  0.761\n",
            "Method:                 Least Squares   F-statistic:                     928.8\n",
            "Date:                Tue, 15 Sep 2020   Prob (F-statistic):               0.00\n",
            "Time:                        21:36:22   Log-Likelihood:                -17497.\n",
            "No. Observations:                1460   AIC:                         3.501e+04\n",
            "Df Residuals:                    1454   BIC:                         3.504e+04\n",
            "Df Model:                           5                                         \n",
            "Covariance Type:            nonrobust                                         \n",
            "===============================================================================\n",
            "                  coef    std err          t      P>|t|      [0.025      0.975]\n",
            "-------------------------------------------------------------------------------\n",
            "const        -1.03e+05   4901.609    -21.006      0.000   -1.13e+05   -9.33e+04\n",
            "overallqual  2.396e+04   1083.493     22.109      0.000    2.18e+04    2.61e+04\n",
            "grlivarea      43.2993      2.678     16.170      0.000      38.047      48.552\n",
            "garagecars   1.819e+04   1752.914     10.377      0.000    1.48e+04    2.16e+04\n",
            "totalbsmtsf    25.0167      4.299      5.819      0.000      16.583      33.450\n",
            "firstflrsf     11.6608      5.024      2.321      0.020       1.805      21.516\n",
            "==============================================================================\n",
            "Omnibus:                      417.210   Durbin-Watson:                   1.973\n",
            "Prob(Omnibus):                  0.000   Jarque-Bera (JB):            35788.405\n",
            "Skew:                          -0.254   Prob(JB):                         0.00\n",
            "Kurtosis:                      27.250   Cond. No.                     1.11e+04\n",
            "==============================================================================\n",
            "\n",
            "Warnings:\n",
            "[1] Standard Errors assume that the covariance matrix of the errors is correctly specified.\n",
            "[2] The condition number is large, 1.11e+04. This might indicate that there are\n",
            "strong multicollinearity or other numerical problems.\n"
          ],
          "name": "stdout"
        }
      ]
    },
    {
      "cell_type": "markdown",
      "metadata": {
        "id": "iw-XwlkJUgcw"
      },
      "source": [
        "All variables are statistically significant. We know this because the P-values are less than .05. According to our results:\n",
        "\n",
        "- 1 point increase in 'overallqual' results in a \\$23960 increase in sale price\n",
        "- 1 point increase in 'grlivarea' results in a \\$43.30 increase in sale price\n",
        "- 1 point increase in 'garagecars' results in a \\$18190 increase in sale price\n",
        "- 1 point increse in 'totalbsmtsf' results in a \\$25 increase in sale price\n",
        "- 1 point increase in 'firstflsf' results in \\$11.66 increase in sale price."
      ]
    },
    {
      "cell_type": "markdown",
      "metadata": {
        "id": "k6oxRNWX-QFB"
      },
      "source": [
        "Now let's look assess the goodness of fit using F-test, R-squared (adjusted R-squared), AIC, and BIC.\n",
        "\n",
        "The F-statistic p-value is 0, this indicattes that our model is useful in explaining sale price. However, F-tests don't quantify how much information our model contribures. This requires R-squared."
      ]
    },
    {
      "cell_type": "markdown",
      "metadata": {
        "id": "zoBj_RN9-8jW"
      },
      "source": [
        "Our R-sqaured and adjusted R-squared were .762 and .761 respectively. R-sqaured represents the propotion of the variance for a dependent variable that is explained by an independent variable in a regression model. For example, if the R2 of a model is 0.50, then approximately half of the observed variation can be explained by the model's inputs. Adjusted R-squared does the same job as R-squared, but it is adjusted according to the number of features included in the model. This is why it's always safer to look at this value over the normal R-squared. \n",
        "\n",
        "Too high of an R-squared value may be a sign of overfitting. Luckily we have other ways to check for that."
      ]
    },
    {
      "cell_type": "markdown",
      "metadata": {
        "id": "_y9Nh7SSBhCB"
      },
      "source": [
        "The AIC and BIC were 35010 and 35040. \n",
        "\n",
        "For both AIC and BIC, the lower the value the better. Hence, we choose the model with the lowest AIC or BIC value. Although we can use either of the two criteria, AIC is usually criticized for its tendency to overfit. In contrast, BIC penalizes the number of parameters more severely than AIC and hence favors more parsimonious models (that is, models with fewer parameters)."
      ]
    },
    {
      "cell_type": "markdown",
      "metadata": {
        "id": "4HG5iFzV_xv_"
      },
      "source": [
        "### Second model"
      ]
    },
    {
      "cell_type": "markdown",
      "metadata": {
        "id": "OsK9gPNI_239"
      },
      "source": [
        "Let's see if we can improve our model. Specifically I want to look at some of the non-numeric features of our dataset and one-hot encode them before adding them to our model."
      ]
    },
    {
      "cell_type": "code",
      "metadata": {
        "id": "72ZQANJVT4kz",
        "outputId": "d93e0245-9193-446c-8b5d-486881ad3ba6",
        "colab": {
          "base_uri": "https://localhost:8080/",
          "height": 1000
        }
      },
      "source": [
        "house_df.info()"
      ],
      "execution_count": null,
      "outputs": [
        {
          "output_type": "stream",
          "text": [
            "<class 'pandas.core.frame.DataFrame'>\n",
            "RangeIndex: 1460 entries, 0 to 1459\n",
            "Data columns (total 81 columns):\n",
            " #   Column         Non-Null Count  Dtype  \n",
            "---  ------         --------------  -----  \n",
            " 0   id             1460 non-null   int64  \n",
            " 1   mssubclass     1460 non-null   int64  \n",
            " 2   mszoning       1460 non-null   object \n",
            " 3   lotfrontage    1201 non-null   float64\n",
            " 4   lotarea        1460 non-null   int64  \n",
            " 5   street         1460 non-null   object \n",
            " 6   alley          91 non-null     object \n",
            " 7   lotshape       1460 non-null   object \n",
            " 8   landcontour    1460 non-null   object \n",
            " 9   utilities      1460 non-null   object \n",
            " 10  lotconfig      1460 non-null   object \n",
            " 11  landslope      1460 non-null   object \n",
            " 12  neighborhood   1460 non-null   object \n",
            " 13  condition1     1460 non-null   object \n",
            " 14  condition2     1460 non-null   object \n",
            " 15  bldgtype       1460 non-null   object \n",
            " 16  housestyle     1460 non-null   object \n",
            " 17  overallqual    1460 non-null   int64  \n",
            " 18  overallcond    1460 non-null   int64  \n",
            " 19  yearbuilt      1460 non-null   int64  \n",
            " 20  yearremodadd   1460 non-null   int64  \n",
            " 21  roofstyle      1460 non-null   object \n",
            " 22  roofmatl       1460 non-null   object \n",
            " 23  exterior1st    1460 non-null   object \n",
            " 24  exterior2nd    1460 non-null   object \n",
            " 25  masvnrtype     1452 non-null   object \n",
            " 26  masvnrarea     1452 non-null   float64\n",
            " 27  exterqual      1460 non-null   object \n",
            " 28  extercond      1460 non-null   object \n",
            " 29  foundation     1460 non-null   object \n",
            " 30  bsmtqual       1423 non-null   object \n",
            " 31  bsmtcond       1423 non-null   object \n",
            " 32  bsmtexposure   1422 non-null   object \n",
            " 33  bsmtfintype1   1423 non-null   object \n",
            " 34  bsmtfinsf1     1460 non-null   int64  \n",
            " 35  bsmtfintype2   1422 non-null   object \n",
            " 36  bsmtfinsf2     1460 non-null   int64  \n",
            " 37  bsmtunfsf      1460 non-null   int64  \n",
            " 38  totalbsmtsf    1460 non-null   int64  \n",
            " 39  heating        1460 non-null   object \n",
            " 40  heatingqc      1460 non-null   object \n",
            " 41  centralair     1460 non-null   object \n",
            " 42  electrical     1459 non-null   object \n",
            " 43  firstflrsf     1460 non-null   int64  \n",
            " 44  secondflrsf    1460 non-null   int64  \n",
            " 45  lowqualfinsf   1460 non-null   int64  \n",
            " 46  grlivarea      1460 non-null   int64  \n",
            " 47  bsmtfullbath   1460 non-null   int64  \n",
            " 48  bsmthalfbath   1460 non-null   int64  \n",
            " 49  fullbath       1460 non-null   int64  \n",
            " 50  halfbath       1460 non-null   int64  \n",
            " 51  bedroomabvgr   1460 non-null   int64  \n",
            " 52  kitchenabvgr   1460 non-null   int64  \n",
            " 53  kitchenqual    1460 non-null   object \n",
            " 54  totrmsabvgrd   1460 non-null   int64  \n",
            " 55  functional     1460 non-null   object \n",
            " 56  fireplaces     1460 non-null   int64  \n",
            " 57  fireplacequ    770 non-null    object \n",
            " 58  garagetype     1379 non-null   object \n",
            " 59  garageyrblt    1379 non-null   float64\n",
            " 60  garagefinish   1379 non-null   object \n",
            " 61  garagecars     1460 non-null   int64  \n",
            " 62  garagearea     1460 non-null   int64  \n",
            " 63  garagequal     1379 non-null   object \n",
            " 64  garagecond     1379 non-null   object \n",
            " 65  paveddrive     1460 non-null   object \n",
            " 66  wooddecksf     1460 non-null   int64  \n",
            " 67  openporchsf    1460 non-null   int64  \n",
            " 68  enclosedporch  1460 non-null   int64  \n",
            " 69  threessnporch  1460 non-null   int64  \n",
            " 70  screenporch    1460 non-null   int64  \n",
            " 71  poolarea       1460 non-null   int64  \n",
            " 72  poolqc         7 non-null      object \n",
            " 73  fence          281 non-null    object \n",
            " 74  miscfeature    54 non-null     object \n",
            " 75  miscval        1460 non-null   int64  \n",
            " 76  mosold         1460 non-null   int64  \n",
            " 77  yrsold         1460 non-null   int64  \n",
            " 78  saletype       1460 non-null   object \n",
            " 79  salecondition  1460 non-null   object \n",
            " 80  saleprice      1460 non-null   int64  \n",
            "dtypes: float64(3), int64(35), object(43)\n",
            "memory usage: 924.0+ KB\n"
          ],
          "name": "stdout"
        }
      ]
    },
    {
      "cell_type": "markdown",
      "metadata": {
        "id": "MSbQq5fvAgun"
      },
      "source": [
        "The 'mszoning' column seems like it could be important. Let's create dummy values and add it to our model."
      ]
    },
    {
      "cell_type": "code",
      "metadata": {
        "id": "QHlyQfxnAKqY"
      },
      "source": [
        "house_df = pd.concat([house_df,pd.get_dummies(house_df.mszoning, prefix=\"mszoning\", drop_first=True)], axis=1)"
      ],
      "execution_count": null,
      "outputs": []
    },
    {
      "cell_type": "code",
      "metadata": {
        "id": "QZ8U3ildBCB0"
      },
      "source": [
        "dummy_col_names = list(pd.get_dummies(house_df.mszoning, prefix=\"mszoning\", drop_first=True).columns)"
      ],
      "execution_count": null,
      "outputs": []
    },
    {
      "cell_type": "markdown",
      "metadata": {
        "id": "hy0maXPYA2rd"
      },
      "source": [
        "Recreate our model."
      ]
    },
    {
      "cell_type": "code",
      "metadata": {
        "id": "IDxwxZTcAw7v"
      },
      "source": [
        "X = house_df[['overallqual', 'grlivarea', 'garagecars', 'totalbsmtsf', 'firstflrsf'] + dummy_col_names]\n",
        "y = house_df.saleprice\n"
      ],
      "execution_count": null,
      "outputs": []
    },
    {
      "cell_type": "code",
      "metadata": {
        "id": "WeArrk9gBW8b",
        "outputId": "cf3f0d4d-03a1-4bc7-d36e-93dba8429ff6",
        "colab": {
          "base_uri": "https://localhost:8080/",
          "height": 612
        }
      },
      "source": [
        "X = sm.add_constant(X)\n",
        "\n",
        "model2 = sm.OLS(y, X).fit()\n",
        "print(model2.summary())"
      ],
      "execution_count": null,
      "outputs": [
        {
          "output_type": "stream",
          "text": [
            "                            OLS Regression Results                            \n",
            "==============================================================================\n",
            "Dep. Variable:              saleprice   R-squared:                       0.769\n",
            "Model:                            OLS   Adj. R-squared:                  0.767\n",
            "Method:                 Least Squares   F-statistic:                     535.8\n",
            "Date:                Tue, 15 Sep 2020   Prob (F-statistic):               0.00\n",
            "Time:                        21:36:23   Log-Likelihood:                -17475.\n",
            "No. Observations:                1460   AIC:                         3.497e+04\n",
            "Df Residuals:                    1450   BIC:                         3.502e+04\n",
            "Df Model:                           9                                         \n",
            "Covariance Type:            nonrobust                                         \n",
            "===============================================================================\n",
            "                  coef    std err          t      P>|t|      [0.025      0.975]\n",
            "-------------------------------------------------------------------------------\n",
            "const       -1.176e+05   1.25e+04     -9.377      0.000   -1.42e+05    -9.3e+04\n",
            "overallqual  2.347e+04   1096.008     21.413      0.000    2.13e+04    2.56e+04\n",
            "grlivarea      44.4531      2.651     16.771      0.000      39.254      49.653\n",
            "garagecars   1.706e+04   1743.342      9.787      0.000    1.36e+04    2.05e+04\n",
            "totalbsmtsf    24.7067      4.244      5.821      0.000      16.381      33.032\n",
            "firstflrsf      7.5094      5.037      1.491      0.136      -2.372      17.391\n",
            "mszoning_FV  2.446e+04   1.33e+04      1.838      0.066   -1645.388    5.06e+04\n",
            "mszoning_RH   1.15e+04   1.55e+04      0.740      0.459    -1.9e+04     4.2e+04\n",
            "mszoning_RL  2.625e+04   1.23e+04      2.131      0.033    2086.254    5.04e+04\n",
            "mszoning_RM  7103.8807   1.25e+04      0.569      0.570   -1.74e+04    3.16e+04\n",
            "==============================================================================\n",
            "Omnibus:                      405.234   Durbin-Watson:                   1.978\n",
            "Prob(Omnibus):                  0.000   Jarque-Bera (JB):            37141.539\n",
            "Skew:                          -0.047   Prob(JB):                         0.00\n",
            "Kurtosis:                      27.709   Cond. No.                     6.30e+04\n",
            "==============================================================================\n",
            "\n",
            "Warnings:\n",
            "[1] Standard Errors assume that the covariance matrix of the errors is correctly specified.\n",
            "[2] The condition number is large, 6.3e+04. This might indicate that there are\n",
            "strong multicollinearity or other numerical problems.\n"
          ],
          "name": "stdout"
        }
      ]
    },
    {
      "cell_type": "markdown",
      "metadata": {
        "id": "GwjOHTPuB57H"
      },
      "source": [
        "Comparing this to our old model, it seems to have marginally improved!\n",
        "\n",
        "We also notice from the p-values that all the zoning features other than 'mszoning_RL' are statistically insignificant. We will remove those to further improve our model. 'firstflrsf' can also be dropped. I am going against the model's suggestions here and keeping 'mszoning_FV'. We'll see how it plays out."
      ]
    },
    {
      "cell_type": "markdown",
      "metadata": {
        "id": "mnPgR_XJEDWE"
      },
      "source": [
        "Since we have improved our model, we will now use it to make predicitions. we'll do this with a test train split."
      ]
    },
    {
      "cell_type": "code",
      "metadata": {
        "id": "1gSfmJSOHCb4"
      },
      "source": [
        "X = house_df[['overallqual', 'grlivarea', 'garagecars', 'totalbsmtsf', 'mszoning_RL', 'mszoning_FV']]\n",
        "y = house_df.saleprice"
      ],
      "execution_count": null,
      "outputs": []
    },
    {
      "cell_type": "code",
      "metadata": {
        "id": "wNrfq4PyBYxY"
      },
      "source": [
        "X_train, X_test, y_train, y_test = train_test_split(\n",
        "    X, y, test_size=.2, random_state=20\n",
        ")"
      ],
      "execution_count": null,
      "outputs": []
    },
    {
      "cell_type": "markdown",
      "metadata": {
        "id": "BoGx5sgHHVvd"
      },
      "source": [
        "Remember to add constant."
      ]
    },
    {
      "cell_type": "code",
      "metadata": {
        "id": "EUWh7haKHRH_"
      },
      "source": [
        "X_train = sm.add_constant(X_train)"
      ],
      "execution_count": null,
      "outputs": []
    },
    {
      "cell_type": "markdown",
      "metadata": {
        "id": "qsxTlfGxHX7F"
      },
      "source": [
        "Now we train our model."
      ]
    },
    {
      "cell_type": "code",
      "metadata": {
        "id": "3RCt9UDHHY5H",
        "outputId": "c8d65505-4414-4267-8957-1478df223b41",
        "colab": {
          "base_uri": "https://localhost:8080/",
          "height": 561
        }
      },
      "source": [
        "model3 = sm.OLS(y_train, X_train)\n",
        "model3_results = model3.fit()\n",
        "\n",
        "print(model3_results.summary())"
      ],
      "execution_count": null,
      "outputs": [
        {
          "output_type": "stream",
          "text": [
            "                            OLS Regression Results                            \n",
            "==============================================================================\n",
            "Dep. Variable:              saleprice   R-squared:                       0.763\n",
            "Model:                            OLS   Adj. R-squared:                  0.762\n",
            "Method:                 Least Squares   F-statistic:                     623.6\n",
            "Date:                Tue, 15 Sep 2020   Prob (F-statistic):               0.00\n",
            "Time:                        21:36:23   Log-Likelihood:                -14005.\n",
            "No. Observations:                1168   AIC:                         2.802e+04\n",
            "Df Residuals:                    1161   BIC:                         2.806e+04\n",
            "Df Model:                           6                                         \n",
            "Covariance Type:            nonrobust                                         \n",
            "===============================================================================\n",
            "                  coef    std err          t      P>|t|      [0.025      0.975]\n",
            "-------------------------------------------------------------------------------\n",
            "const       -1.075e+05   5396.244    -19.918      0.000   -1.18e+05   -9.69e+04\n",
            "overallqual  2.414e+04   1207.268     19.995      0.000    2.18e+04    2.65e+04\n",
            "grlivarea      42.7333      2.767     15.445      0.000      37.305      48.162\n",
            "garagecars   1.847e+04   1946.934      9.488      0.000    1.47e+04    2.23e+04\n",
            "totalbsmtsf    25.3021      3.224      7.848      0.000      18.976      31.628\n",
            "mszoning_RL  2.094e+04   3224.198      6.495      0.000    1.46e+04    2.73e+04\n",
            "mszoning_FV  1.514e+04   6344.492      2.386      0.017    2690.994    2.76e+04\n",
            "==============================================================================\n",
            "Omnibus:                      315.174   Durbin-Watson:                   2.088\n",
            "Prob(Omnibus):                  0.000   Jarque-Bera (JB):            23565.484\n",
            "Skew:                          -0.094   Prob(JB):                         0.00\n",
            "Kurtosis:                      25.004   Cond. No.                     1.12e+04\n",
            "==============================================================================\n",
            "\n",
            "Warnings:\n",
            "[1] Standard Errors assume that the covariance matrix of the errors is correctly specified.\n",
            "[2] The condition number is large, 1.12e+04. This might indicate that there are\n",
            "strong multicollinearity or other numerical problems.\n"
          ],
          "name": "stdout"
        }
      ]
    },
    {
      "cell_type": "markdown",
      "metadata": {
        "id": "vOt9jZzBIt_w"
      },
      "source": [
        "This model has a lower adj. r-squared than our second iteration. However this could actually be a sign of improvement, as the second model might have been overfit. The AIC and BIC are significantly lower than the second iteration. This indicates that this model performs better."
      ]
    },
    {
      "cell_type": "markdown",
      "metadata": {
        "id": "xKxebc49J3mS"
      },
      "source": [
        "Let's plot our model and look at some evaluation metrics."
      ]
    },
    {
      "cell_type": "code",
      "metadata": {
        "id": "O5ypBhqaHf_A",
        "outputId": "1bff84f2-2828-4cce-ffea-24e5e3f9c3ef",
        "colab": {
          "base_uri": "https://localhost:8080/",
          "height": 363
        }
      },
      "source": [
        "# We add constant to the model as it's a best practice\n",
        "# to do so every time!\n",
        "X_test = sm.add_constant(X_test)\n",
        "\n",
        "# We are making predictions here\n",
        "y_preds = model3_results.predict(X_test)\n",
        "\n",
        "fig = plt.figure()\n",
        "fig.patch.set_facecolor('xkcd:mint green')\n",
        "plt.scatter(y_test, y_preds)\n",
        "plt.plot(y_test, y_test, color=\"red\")\n",
        "plt.xlabel(\"true values\")\n",
        "plt.ylabel(\"predicted values\")\n",
        "plt.title(\"house price: true and predicted values\")\n",
        "plt.show()\n",
        "\n",
        "print(\"Mean absolute error of the prediction is: {}\".format(mean_absolute_error(y_test, y_preds)))\n",
        "print(\"Mean squared error of the prediction is: {}\".format(mse(y_test, y_preds)))\n",
        "print(\"Root mean squared error of the prediction is: {}\".format(rmse(y_test, y_preds)))\n",
        "print(\"Mean absolute percentage error of the prediction is: {}\".format(np.mean(np.abs((y_test - y_preds) / y_test)) * 100))\n",
        "\n"
      ],
      "execution_count": null,
      "outputs": [
        {
          "output_type": "display_data",
          "data": {
            "image/png": "[encoded data removed]",
            "text/plain": [
              "<Figure size 432x288 with 1 Axes>"
            ]
          },
          "metadata": {
            "tags": []
          }
        },
        {
          "output_type": "stream",
          "text": [
            "Mean absolute error of the prediction is: 23155.6589736649\n",
            "Mean squared error of the prediction is: 1240194997.1425798\n",
            "Root mean squared error of the prediction is: 35216.4023878445\n",
            "Mean absolute percentage error of the prediction is: 14.187155820488817\n"
          ],
          "name": "stdout"
        }
      ]
    },
    {
      "cell_type": "markdown",
      "metadata": {
        "id": "i3sW7IUrLLei"
      },
      "source": [
        "The model seems to predict well for lower values, but under-predicts the most expensive houses."
      ]
    },
    {
      "cell_type": "markdown",
      "metadata": {
        "id": "Xlt9gYoDKd3t"
      },
      "source": [
        "When we were evaluating the training performance of a linear regression model, we used metrics like R-squared and adjusted R-squared. R-squared measures the ratio of variance in the target variable that is explained by the model. However, when we are making predictions we care more about how close our predictions are to the target rather than the variance in the target variable. This means that we usually use metrics other than R-squared to gauge how good our predictions are."
      ]
    },
    {
      "cell_type": "markdown",
      "metadata": {
        "id": "vSLSME5TKlCf"
      },
      "source": [
        "\n",
        "\n",
        "\n",
        "\n",
        "*   **Mean absolute error (MAE)** is defined as the average of the absolute values of the errors between the true values and the predicted values\n",
        "*   **Mean squared error (MSE)** is defined as the average of the squared errors between the true values and the predicted values\n",
        "* **Root mean squared error (RMSE)** is defined as the square root of the MSE\n",
        "* **Mean absolute percentage error (MAPE)** is defined as the average of the ratio of the absolute values of the errors to the true values\n",
        "\n",
        "\n",
        "\n"
      ]
    },
    {
      "cell_type": "markdown",
      "metadata": {
        "id": "MEzd4nATK3dT"
      },
      "source": [
        "Although these are different metrics, they are essentially using the difference between what we know to be correct medical cost for a person and predicted medical cost from the model. These errors are then summed up for an overall error score.\n",
        "\n",
        "We can use any one of the above metrics. But there are some important points to note about them:\n",
        "\n",
        "* Lower values are desirable for all four metrics. The lower the value, the better the performance of the model.\n",
        "* MAE, MSE, and RMSE are in the unit of the target variable but MAPE is unitless. So MAE, MSE, and RMSE are only useful if we compare different models that have the same target variable.\n",
        "* MSE and RMSE penalize large errors more than the MAE and MAPE do. This means that MSE and RMSE are more useful when high error values are undesirable.\n",
        "* For target values very close to zero, MAPE may provide a problematic picture of the performance as the ratio may go to very high values, and this may distort the average. It can also give division by zero errors if some values of the target are zero!"
      ]
    },
    {
      "cell_type": "markdown",
      "metadata": {
        "id": "0yc2t2DzL9mM"
      },
      "source": [
        "Thus far we have been using OLS - Ordinary Least Squares to fit our models. However we may be able to improve our model using different types of regression. **Ridge**, **Lasso**, and **ElasticNet** are three examples that I will implement here."
      ]
    },
    {
      "cell_type": "code",
      "metadata": {
        "id": "LTIO2y44Q_o5"
      },
      "source": [
        "models = {'OLS': linear_model.LinearRegression(),\n",
        "          'Lasso': linear_model.Lasso(),\n",
        "          'Ridge': linear_model.Ridge(),\n",
        "          'ElasticNet': linear_model.ElasticNet(),}\n"
      ],
      "execution_count": null,
      "outputs": []
    },
    {
      "cell_type": "markdown",
      "metadata": {
        "id": "olZFaJXLRf5C"
      },
      "source": [
        "This function will test all 3 models."
      ]
    },
    {
      "cell_type": "code",
      "metadata": {
        "id": "hGXLesX-Re69"
      },
      "source": [
        "def test(models, iterations = 100):\n",
        "    results = {}\n",
        "    for i in models:\n",
        "        r2_train = []\n",
        "        r2_test = []\n",
        "        for j in range(iterations):\n",
        "            X_train, X_test, y_train, y_test = train_test_split(\n",
        "                X, y, test_size = .2, random_state = 20\n",
        "            )\n",
        "            r2_test.append(metrics.r2_score(\n",
        "                y_test, models[i].fit(X_train, y_train).predict(X_test))\n",
        "            )\n",
        "            r2_train.append(metrics.r2_score(\n",
        "                y_train, models[i].fit(X_train,y_train).predict(X_train))\n",
        "            )\n",
        "        results[i] = [np.mean(r2_train), np.mean(r2_test)]\n",
        "    return pd.DataFrame(results)"
      ],
      "execution_count": null,
      "outputs": []
    },
    {
      "cell_type": "code",
      "metadata": {
        "id": "ncAS2-00RPpy",
        "outputId": "7afa7c2f-e3ec-4d24-da85-6b1f3071db6a",
        "colab": {
          "base_uri": "https://localhost:8080/",
          "height": 111
        }
      },
      "source": [
        "test(models)"
      ],
      "execution_count": null,
      "outputs": [
        {
          "output_type": "execute_result",
          "data": {
            "text/html": [
              "<div>\n",
              "<style scoped>\n",
              "    .dataframe tbody tr th:only-of-type {\n",
              "        vertical-align: middle;\n",
              "    }\n",
              "\n",
              "    .dataframe tbody tr th {\n",
              "        vertical-align: top;\n",
              "    }\n",
              "\n",
              "    .dataframe thead th {\n",
              "        text-align: right;\n",
              "    }\n",
              "</style>\n",
              "<table border=\"1\" class=\"dataframe\">\n",
              "  <thead>\n",
              "    <tr style=\"text-align: right;\">\n",
              "      <th></th>\n",
              "      <th>OLS</th>\n",
              "      <th>Lasso</th>\n",
              "      <th>Ridge</th>\n",
              "      <th>ElasticNet</th>\n",
              "    </tr>\n",
              "  </thead>\n",
              "  <tbody>\n",
              "    <tr>\n",
              "      <th>0</th>\n",
              "      <td>0.763183</td>\n",
              "      <td>0.763183</td>\n",
              "      <td>0.763181</td>\n",
              "      <td>0.741734</td>\n",
              "    </tr>\n",
              "    <tr>\n",
              "      <th>1</th>\n",
              "      <td>0.785531</td>\n",
              "      <td>0.785534</td>\n",
              "      <td>0.785596</td>\n",
              "      <td>0.790065</td>\n",
              "    </tr>\n",
              "  </tbody>\n",
              "</table>\n",
              "</div>"
            ],
            "text/plain": [
              "        OLS     Lasso     Ridge  ElasticNet\n",
              "0  0.763183  0.763183  0.763181    0.741734\n",
              "1  0.785531  0.785534  0.785596    0.790065"
            ]
          },
          "metadata": {
            "tags": []
          },
          "execution_count": 27
        }
      ]
    },
    {
      "cell_type": "markdown",
      "metadata": {
        "id": "7mnrAxRDStBI"
      },
      "source": [
        "With 0 representing the training data, and 1 representing the test data, it looks like ElasticNet performs the best. ElasticNet is a combination of both Lasso (L1 regularization) and Ridge (L2 Regularization)."
      ]
    },
    {
      "cell_type": "markdown",
      "metadata": {
        "id": "K978fCdMROHw"
      },
      "source": [
        "We can improve on these models by tuning the hyperparameters."
      ]
    },
    {
      "cell_type": "code",
      "metadata": {
        "id": "zIv6eKaoMWci"
      },
      "source": [
        "alphas = [np.power(10.0,p) for p in np.arange(-10,5,1)]"
      ],
      "execution_count": null,
      "outputs": []
    },
    {
      "cell_type": "markdown",
      "metadata": {
        "id": "_i3Rpeu-Wley"
      },
      "source": [
        "I will use the CV variants of these models to iterate across different alpha values using 5 folds."
      ]
    },
    {
      "cell_type": "code",
      "metadata": {
        "id": "kUI-tEOzVrda"
      },
      "source": [
        "models = {'OLS': linear_model.LinearRegression(),\n",
        "          'LassoCV': linear_model.LassoCV(alphas=alphas, cv=5),\n",
        "          'RidgeCV': linear_model.RidgeCV(alphas=alphas, cv=5),\n",
        "          'ElasticNetCV': linear_model.ElasticNetCV(alphas=alphas, cv=5),}\n"
      ],
      "execution_count": null,
      "outputs": []
    },
    {
      "cell_type": "markdown",
      "metadata": {
        "id": "Lf7vENs4WeFc"
      },
      "source": [
        "Running this test function again may take a few minutes."
      ]
    },
    {
      "cell_type": "code",
      "metadata": {
        "id": "V9fm1TffWVO7",
        "outputId": "dd07b98a-4eae-49b2-b94c-09d605b87089",
        "colab": {
          "base_uri": "https://localhost:8080/",
          "height": 145
        }
      },
      "source": [
        "%time\n",
        "test(models)"
      ],
      "execution_count": null,
      "outputs": [
        {
          "output_type": "stream",
          "text": [
            "CPU times: user 3 µs, sys: 1e+03 ns, total: 4 µs\n",
            "Wall time: 6.68 µs\n"
          ],
          "name": "stdout"
        },
        {
          "output_type": "execute_result",
          "data": {
            "text/html": [
              "<div>\n",
              "<style scoped>\n",
              "    .dataframe tbody tr th:only-of-type {\n",
              "        vertical-align: middle;\n",
              "    }\n",
              "\n",
              "    .dataframe tbody tr th {\n",
              "        vertical-align: top;\n",
              "    }\n",
              "\n",
              "    .dataframe thead th {\n",
              "        text-align: right;\n",
              "    }\n",
              "</style>\n",
              "<table border=\"1\" class=\"dataframe\">\n",
              "  <thead>\n",
              "    <tr style=\"text-align: right;\">\n",
              "      <th></th>\n",
              "      <th>OLS</th>\n",
              "      <th>LassoCV</th>\n",
              "      <th>RidgeCV</th>\n",
              "      <th>ElasticNetCV</th>\n",
              "    </tr>\n",
              "  </thead>\n",
              "  <tbody>\n",
              "    <tr>\n",
              "      <th>0</th>\n",
              "      <td>0.763183</td>\n",
              "      <td>0.763182</td>\n",
              "      <td>0.763181</td>\n",
              "      <td>0.763140</td>\n",
              "    </tr>\n",
              "    <tr>\n",
              "      <th>1</th>\n",
              "      <td>0.785531</td>\n",
              "      <td>0.785559</td>\n",
              "      <td>0.785596</td>\n",
              "      <td>0.785885</td>\n",
              "    </tr>\n",
              "  </tbody>\n",
              "</table>\n",
              "</div>"
            ],
            "text/plain": [
              "        OLS   LassoCV   RidgeCV  ElasticNetCV\n",
              "0  0.763183  0.763182  0.763181      0.763140\n",
              "1  0.785531  0.785559  0.785596      0.785885"
            ]
          },
          "metadata": {
            "tags": []
          },
          "execution_count": 30
        }
      ]
    },
    {
      "cell_type": "markdown",
      "metadata": {
        "id": "t6WMAtHmY6lw"
      },
      "source": [
        "In this case, tuning the hyperparameters didn't make much of a difference. It was also very computation heavy."
      ]
    },
    {
      "cell_type": "markdown",
      "metadata": {
        "id": "VyZU-CffZZSm"
      },
      "source": [
        "Let's compare our first model with our final ElasticNetCV. We will recreate them both and then plot them."
      ]
    },
    {
      "cell_type": "code",
      "metadata": {
        "id": "c7Pj9aXSaEXY"
      },
      "source": [
        "X = house_df[['overallqual', 'grlivarea', 'garagecars', 'totalbsmtsf', 'firstflrsf']]\n",
        "y = house_df.saleprice\n",
        "\n",
        "X_train, X_test, y_train, y_test = train_test_split(\n",
        "                X, y, test_size = .2, random_state = 20\n",
        "                )\n",
        "\n",
        "X_train = sm.add_constant(X_train)\n",
        "X_test = sm.add_constant(X_test)\n",
        "\n",
        "model_initial = sm.OLS(y_train, X_train).fit()\n",
        "y_preds = model_initial.predict(X_test)"
      ],
      "execution_count": null,
      "outputs": []
    },
    {
      "cell_type": "code",
      "metadata": {
        "id": "-DSNtR3qbo7-",
        "outputId": "0815ac3b-9d29-4ca8-ef18-a48e5e01e918",
        "colab": {
          "base_uri": "https://localhost:8080/"
        }
      },
      "source": [
        "fig = plt.figure()\n",
        "fig.patch.set_facecolor('xkcd:mint green')\n",
        "plt.scatter(y_test, y_preds)\n",
        "plt.plot(y_test, y_test, color=\"red\")\n",
        "plt.xlabel(\"true values\")\n",
        "plt.ylabel(\"predicted values\")\n",
        "plt.title(\"house price: true and predicted values\")\n",
        "plt.show()\n",
        "\n",
        "print(\"Mean absolute error of the prediction is: {}\".format(mean_absolute_error(y_test, y_preds)))\n",
        "print(\"Mean squared error of the prediction is: {}\".format(mse(y_test, y_preds)))\n",
        "print(\"Root mean squared error of the prediction is: {}\".format(rmse(y_test, y_preds)))\n",
        "print(\"Mean absolute percentage error of the prediction is: {}\".format(np.mean(np.abs((y_test - y_preds) / y_test)) * 100))"
      ],
      "execution_count": null,
      "outputs": [
        {
          "output_type": "display_data",
          "data": {
            "image/png": "[encoded data removed]",
            "text/plain": [
              "<Figure size 432x288 with 1 Axes>"
            ]
          },
          "metadata": {
            "tags": []
          }
        },
        {
          "output_type": "stream",
          "text": [
            "Mean absolute error of the prediction is: 23098.39117074326\n",
            "Mean squared error of the prediction is: 1255866581.5673957\n",
            "Root mean squared error of the prediction is: 35438.20793391499\n",
            "Mean absolute percentage error of the prediction is: 14.352751414598778\n"
          ],
          "name": "stdout"
        }
      ]
    },
    {
      "cell_type": "code",
      "metadata": {
        "id": "9L3HsiHAbDXN"
      },
      "source": [
        "X = house_df[['overallqual', 'grlivarea', 'garagecars', 'totalbsmtsf', 'mszoning_RL', 'mszoning_FV']]\n",
        "y = house_df.saleprice\n",
        "\n",
        "X_train, X_test, y_train, y_test = train_test_split(\n",
        "                X, y, test_size = .2, random_state = 20\n",
        "                )\n",
        "\n",
        "X_train = sm.add_constant(X_train)\n",
        "X_test = sm.add_constant(X_test)\n",
        "\n",
        "model_final = sm.OLS(y_train, X_train).fit()\n",
        "y_preds = model_final.predict(X_test)"
      ],
      "execution_count": null,
      "outputs": []
    },
    {
      "cell_type": "code",
      "metadata": {
        "id": "PD9WUsfnYpTK",
        "outputId": "1a1c6672-26bb-47ff-99ff-4e7f836937b7",
        "colab": {
          "base_uri": "https://localhost:8080/"
        }
      },
      "source": [
        "fig = plt.figure()\n",
        "fig.patch.set_facecolor('xkcd:mint green')\n",
        "plt.scatter(y_test, y_preds)\n",
        "plt.plot(y_test, y_test, color=\"red\")\n",
        "plt.xlabel(\"true values\")\n",
        "plt.ylabel(\"predicted values\")\n",
        "plt.title(\"house price: true and predicted values\")\n",
        "plt.show()\n",
        "\n",
        "print(\"Mean absolute error of the prediction is: {}\".format(mean_absolute_error(y_test, y_preds)))\n",
        "print(\"Mean squared error of the prediction is: {}\".format(mse(y_test, y_preds)))\n",
        "print(\"Root mean squared error of the prediction is: {}\".format(rmse(y_test, y_preds)))\n",
        "print(\"Mean absolute percentage error of the prediction is: {}\".format(np.mean(np.abs((y_test - y_preds) / y_test)) * 100))\n",
        "\n"
      ],
      "execution_count": null,
      "outputs": [
        {
          "output_type": "display_data",
          "data": {
            "image/png": "[encoded data removed]",
            "text/plain": [
              "<Figure size 432x288 with 1 Axes>"
            ]
          },
          "metadata": {
            "tags": []
          }
        },
        {
          "output_type": "stream",
          "text": [
            "Mean absolute error of the prediction is: 23155.6589736649\n",
            "Mean squared error of the prediction is: 1240194997.1425798\n",
            "Root mean squared error of the prediction is: 35216.4023878445\n",
            "Mean absolute percentage error of the prediction is: 14.187155820488817\n"
          ],
          "name": "stdout"
        }
      ]
    },
    {
      "cell_type": "markdown",
      "metadata": {
        "id": "e5Erg6W2b3RR"
      },
      "source": [
        "Both plots are pretty similar. However the lower score on all evaluation metrics shows our final model is an improvement."
      ]
    },
    {
      "cell_type": "code",
      "metadata": {
        "id": "GAOBJdw5Zg56"
      },
      "source": [
        ""
      ],
      "execution_count": null,
      "outputs": []
    }
  ]
}